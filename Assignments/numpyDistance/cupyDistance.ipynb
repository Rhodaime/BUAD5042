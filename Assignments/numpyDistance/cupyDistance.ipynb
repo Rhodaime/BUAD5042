{
 "cells": [
  {
   "cell_type": "markdown",
   "id": "85070326",
   "metadata": {},
   "source": [
    "# The <code>cupy</code> Package\n",
    "\n",
    "Multiprocessing is a topic in this course, the focus of which was intended to be multiprocessing with the CPU.  Given the advances in the <code>cupy</code> package recently, a quick tangent to cover this method of multiprocessing on the Graphic Processing Units (GPUs) is worthwhile because some computers are equipped with powerful graphics cards with a multitude of onboard processors.  Although each of these processors is much less powerful than the cores on our CPUs, their power lies in their multitude.  Here are the specs on my NVIDIA GeForce RTX 3090 graphics card:\n",
    "\n",
    "- 10496 computing cores\n",
    "- 24GB memory\n",
    "\n",
    "There is strength in the number of processors.  The GPU memory capacity, 24GB, is less than I have available to my CPU (64GB) and so this is a relative weakness.\n",
    "\n",
    "NVIDA's <code>cuda</code> is used by the <code>cupy</code> package and so only cuda-enabled NVIDIA graphcis card can run <code>cupy</code>: a list of those can be found [here](https://developer.nvidia.com/cuda-gpus).  You can check to see if your graphics card is listed here.  If it is, then you can run <code>cupy</code>.\n",
    "\n",
    "The programming interface for <code>cupy</code> currently looks just like the <code>numpy</code> interface.  To use <code>cupy</code> use this import statement,\n",
    "\n",
    "``` python\n",
    "import cupy as cp\n",
    "```\n",
    "\n",
    "and then use the <code>cp</code> alias as you would <code>np</code>.\n",
    "\n",
    "for example see some of the commands below."
   ]
  },
  {
   "cell_type": "markdown",
   "id": "aba850e5",
   "metadata": {},
   "source": [
    "# Installing <code>cupy</code>\n",
    "\n",
    "I recommend creating a new anaconda environment for <code>cupy</code> by following these steps:\n",
    "\n",
    "- Open an Anaconda prompt as administrator\n",
    "- Execute the command <code>conda create --name __env_name__ cupy anaconda</code> where __env_name__ is the name you want to give this new environment.  Since its feature is <code>cupy</code> that is what I would call it.  The <code>cupy</code> argument causes <code>cupy</code> and the <code>anaconda</code> argument cause hundreds of the default anaconda packages to be downloaded.\n",
    "- Follow the default prompts to download and install all the packages.\n",
    "\n",
    "You will also need to install <code>cuda</code> on your computer.  See this [link](https://developer.nvidia.com/cuda-downloads)."
   ]
  },
  {
   "cell_type": "markdown",
   "id": "302961a4",
   "metadata": {},
   "source": [
    "# Let's Get to Work!"
   ]
  },
  {
   "cell_type": "code",
   "execution_count": 3,
   "id": "986f1067",
   "metadata": {},
   "outputs": [],
   "source": [
    "import cupy as cp"
   ]
  },
  {
   "cell_type": "code",
   "execution_count": 4,
   "id": "f2c9b076",
   "metadata": {},
   "outputs": [
    {
     "data": {
      "text/plain": [
       "array([[0, 1],\n",
       "       [2, 3]])"
      ]
     },
     "execution_count": 4,
     "metadata": {},
     "output_type": "execute_result"
    }
   ],
   "source": [
    "cp.arange(4).reshape(2,2)"
   ]
  },
  {
   "cell_type": "code",
   "execution_count": 5,
   "id": "a4461741",
   "metadata": {},
   "outputs": [
    {
     "data": {
      "text/plain": [
       "array([[0., 0., 0.],\n",
       "       [0., 0., 0.],\n",
       "       [0., 0., 0.]], dtype=float32)"
      ]
     },
     "execution_count": 5,
     "metadata": {},
     "output_type": "execute_result"
    }
   ],
   "source": [
    "cp.zeros((3,3)).astype(cp.float32)"
   ]
  },
  {
   "cell_type": "code",
   "execution_count": 7,
   "id": "e1d1f628",
   "metadata": {},
   "outputs": [
    {
     "data": {
      "text/plain": [
       "array([[1., 1., 1.],\n",
       "       [1., 1., 1.],\n",
       "       [1., 1., 1.]], dtype=float16)"
      ]
     },
     "execution_count": 7,
     "metadata": {},
     "output_type": "execute_result"
    }
   ],
   "source": [
    "cp.ones((3,3)).astype(cp.float16)"
   ]
  },
  {
   "cell_type": "code",
   "execution_count": null,
   "id": "e5fb15fe",
   "metadata": {},
   "outputs": [],
   "source": []
  },
  {
   "cell_type": "code",
   "execution_count": null,
   "id": "57b3cab5",
   "metadata": {},
   "outputs": [],
   "source": []
  },
  {
   "cell_type": "markdown",
   "id": "762cbff4",
   "metadata": {},
   "source": [
    "The advantage of <code>cupy</code> is that it used the many GPU processors and the variable data are structured so that computations can be distributed among the GPU processors and portions of a computation carried out in parallel fashion."
   ]
  },
  {
   "cell_type": "code",
   "execution_count": null,
   "id": "626e002a",
   "metadata": {},
   "outputs": [],
   "source": []
  },
  {
   "cell_type": "code",
   "execution_count": 8,
   "id": "1c295a5d-10a9-4a72-9384-df469fbf4e55",
   "metadata": {},
   "outputs": [],
   "source": [
    "import time\n",
    "import numpy as np"
   ]
  },
  {
   "cell_type": "code",
   "execution_count": 24,
   "id": "5433a00f-fa48-4d60-ad1c-27e711ffcf5b",
   "metadata": {},
   "outputs": [],
   "source": [
    "size=10000"
   ]
  },
  {
   "cell_type": "code",
   "execution_count": 25,
   "id": "37073f1d-14a8-4a98-bb40-b5782916b2a3",
   "metadata": {},
   "outputs": [],
   "source": [
    "''' Load numpy variables '''\n",
    "p = np.load(f'data/mnist1_{size}.npy').astype(np.float64)\n",
    "q = np.load(f'data/mnist2_{size}.npy').astype(np.float64)\n",
    "assert p.shape[0] == q.shape[0]\n",
    "assert p.shape[1] == 784\n",
    "assert q.shape[1] == 784\n",
    "\n",
    "n = p.shape[0]\n",
    "pixels = p.shape[1]"
   ]
  },
  {
   "cell_type": "code",
   "execution_count": 26,
   "id": "81515840-c5d2-4927-8c29-f1ac60b3e216",
   "metadata": {},
   "outputs": [
    {
     "name": "stdout",
     "output_type": "stream",
     "text": [
      "Exec. time: 2.1572675704956055 for 10000x10000\n",
      "[ 9.34416908 10.68585075  9.54365603  8.2039741   8.32884035]\n"
     ]
    }
   ],
   "source": [
    "start = time.time()\n",
    "\n",
    "result_ein = np.sqrt(np.einsum('ij,ij->i',q,q)[:,np.newaxis] - 2*q@p.T + np.einsum('ij,ij->i',p,p))\n",
    "\n",
    "print(f'Exec. time: {time.time() - start} for {n}x{n}')\n",
    "print(result_ein[0,:5])"
   ]
  },
  {
   "cell_type": "code",
   "execution_count": 27,
   "id": "a9a22cee-62e7-47d3-8682-2bdbf48ba6e0",
   "metadata": {},
   "outputs": [],
   "source": [
    "''' Load cupy variables '''\n",
    "\n",
    "p = cp.load(f'data/mnist1_{size}.npy').astype(np.float64)\n",
    "q = cp.load(f'data/mnist2_{size}.npy').astype(np.float64)\n",
    "assert p.shape[0] == q.shape[0]\n",
    "assert p.shape[1] == 784\n",
    "assert q.shape[1] == 784\n",
    "\n",
    "n = p.shape[0]\n",
    "pixels = p.shape[1]"
   ]
  },
  {
   "cell_type": "code",
   "execution_count": 28,
   "id": "db2f9e4e-2f3a-46b9-8f04-000e7d2cd3c4",
   "metadata": {},
   "outputs": [
    {
     "name": "stdout",
     "output_type": "stream",
     "text": [
      "Exec. time: 0.07599401473999023 for 10000x10000\n",
      "[ 9.34416908 10.68585075  9.54365603  8.2039741   8.32884035]\n"
     ]
    }
   ],
   "source": [
    "start = time.time()\n",
    "#result = np.sqrt(np.diag(q@q.T) -2*q@p.T + np.diag(p@p.T).reshape(-1,1))\n",
    "# for i in range(n):\n",
    "#    for j in range(n):\n",
    "#        result[i][j] = np.sqrt(q[i]@q[i]-2*p[j]@q[i]+p[j]@p[j])\n",
    "\n",
    "result_ein = np.sqrt(np.einsum('ij,ij->i',q,q)[:,np.newaxis] - 2*q@p.T + np.einsum('ij,ij->i',p,p))\n",
    "\n",
    "print(f'Exec. time: {time.time() - start} for {n}x{n}')\n",
    "print(result_ein[0,:5])"
   ]
  },
  {
   "cell_type": "markdown",
   "id": "39b07b15-64a0-4e83-9c65-278651d5afc6",
   "metadata": {},
   "source": [
    "Memory problems are still possible with <code>cupy</code> and, perhaps more likely, so programming in a manner that minimizes the memory footprint is important.\n",
    "\n",
    "First, use lower precision data types <code>cp.float16</code> seems to have no adverse effects in <code>cupy</code> whereas this approach is actually slower then using <code>np.float32</code> in <code>numpy</code>.\n",
    "\n",
    "There are multiple ways to break computations into chunks in order to stay within memory constraints."
   ]
  },
  {
   "cell_type": "code",
   "execution_count": null,
   "id": "a34aab0b-4d7d-4a5c-955a-50b438df1bb1",
   "metadata": {},
   "outputs": [],
   "source": []
  },
  {
   "cell_type": "code",
   "execution_count": null,
   "id": "1e3c5c38-8f09-4ed8-9fe9-344f0cf67d4b",
   "metadata": {},
   "outputs": [],
   "source": []
  }
 ],
 "metadata": {
  "kernelspec": {
   "display_name": "Python 3 (ipykernel)",
   "language": "python",
   "name": "python3"
  },
  "language_info": {
   "codemirror_mode": {
    "name": "ipython",
    "version": 3
   },
   "file_extension": ".py",
   "mimetype": "text/x-python",
   "name": "python",
   "nbconvert_exporter": "python",
   "pygments_lexer": "ipython3",
   "version": "3.11.8"
  }
 },
 "nbformat": 4,
 "nbformat_minor": 5
}
