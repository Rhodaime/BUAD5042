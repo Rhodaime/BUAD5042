{
 "cells": [
  {
   "cell_type": "markdown",
   "id": "85070326",
   "metadata": {},
   "source": [
    "# The <code>cupy</code> Package\n",
    "\n",
    "Multiprocessing is a topic in this course, the focus of which was intended to be multiprocessing with the CPU.  Given the advances in the <code>cupy</code> package recently, a quick tangent to cover this method of multiprocessing on the Graphic Processing Units (GPUs) is worthwhile because some computers are equipped with powerful graphics cards with a multitude of onboard processors.  Although each of these processors is much less powerful than the cores on our CPUs, their power lies in their multitude.  Here are the specs on my NVIDIA GeForce RTX 3090 graphics card:\n",
    "\n",
    "- 10496 computing cores\n",
    "- 24GB memory\n",
    "\n",
    "There is strength in the number of processors.  The GPU memory capacity, 24GB, is less than I have available to my CPU (64GB) and so this is a relative weakness.\n",
    "\n",
    "NVIDA's <code>cuda</code> is used by the <code>cupy</code> package and so only cuda-enabled NVIDIA graphcis card can run <code>cupy</code>: a list of those can be found [here](https://developer.nvidia.com/cuda-gpus).  You can check to see if your graphics card is listed here.  If it is, then you can run <code>cupy</code>.\n",
    "\n",
    "The programming interface for <code>cupy</code> currently looks just like the <code>numpy</code> interface.  To use <code>cupy</code> use this import statement,\n",
    "\n",
    "``` python\n",
    "import cupy as cp\n",
    "```\n",
    "\n",
    "and then use the <code>cp</code> alias as you would <code>np</code>.\n",
    "\n",
    "for example see some of the commands below."
   ]
  },
  {
   "cell_type": "markdown",
   "id": "aba850e5",
   "metadata": {},
   "source": [
    "# Installing <code>cupy</code>\n",
    "\n",
    "I recommend creating a new anaconda environment for <code>cupy</code> by following these steps:\n",
    "\n",
    "- Open an Anaconda prompt as administrator\n",
    "- Execute the command <code>conda create --name __env_name__ cupy anaconda</code> where __env_name__ is the name you want to give this new environment.  Since its feature is <code>cupy</code> that is what I would call it.  The <code>cupy</code> argument causes <code>cupy</code> and the <code>anaconda</code> argument cause hundreds of the default anaconda packages to be downloaded.\n",
    "- Follow the default prompts to download and install all the packages."
   ]
  },
  {
   "cell_type": "markdown",
   "id": "302961a4",
   "metadata": {},
   "source": [
    "# Let's Get to Work!"
   ]
  },
  {
   "cell_type": "code",
   "execution_count": 1,
   "id": "986f1067",
   "metadata": {},
   "outputs": [
    {
     "name": "stderr",
     "output_type": "stream",
     "text": [
      "C:\\Users\\jrbrad\\AppData\\Local\\anaconda3\\envs\\cupy\\lib\\site-packages\\cupy\\_environment.py:205: UserWarning: CUDA path could not be detected. Set CUDA_PATH environment variable if CuPy fails to load.\n",
      "  warnings.warn(\n"
     ]
    }
   ],
   "source": [
    "import cupy as cp"
   ]
  },
  {
   "cell_type": "code",
   "execution_count": null,
   "id": "f2c9b076",
   "metadata": {},
   "outputs": [],
   "source": [
    "cp.arange(4).reshape(2,2)"
   ]
  },
  {
   "cell_type": "code",
   "execution_count": null,
   "id": "a4461741",
   "metadata": {},
   "outputs": [],
   "source": [
    "cp.zeros((3,3)).astype(cp.float32)"
   ]
  },
  {
   "cell_type": "code",
   "execution_count": null,
   "id": "e1d1f628",
   "metadata": {},
   "outputs": [],
   "source": []
  },
  {
   "cell_type": "code",
   "execution_count": null,
   "id": "e5fb15fe",
   "metadata": {},
   "outputs": [],
   "source": []
  },
  {
   "cell_type": "code",
   "execution_count": null,
   "id": "57b3cab5",
   "metadata": {},
   "outputs": [],
   "source": []
  },
  {
   "cell_type": "markdown",
   "id": "762cbff4",
   "metadata": {},
   "source": [
    "The advantage of <code>cupy</code> is that it used the many GPU processors and the variable data are structured so that computations can be distributed among the GPU processors and portions of a computation carried out in parallel fashion."
   ]
  },
  {
   "cell_type": "code",
   "execution_count": null,
   "id": "626e002a",
   "metadata": {},
   "outputs": [],
   "source": []
  }
 ],
 "metadata": {
  "kernelspec": {
   "display_name": "Python 3 (ipykernel)",
   "language": "python",
   "name": "python3"
  },
  "language_info": {
   "codemirror_mode": {
    "name": "ipython",
    "version": 3
   },
   "file_extension": ".py",
   "mimetype": "text/x-python",
   "name": "python",
   "nbconvert_exporter": "python",
   "pygments_lexer": "ipython3",
   "version": "3.9.13"
  }
 },
 "nbformat": 4,
 "nbformat_minor": 5
}
