{
 "cells": [
  {
   "cell_type": "markdown",
   "id": "85070326",
   "metadata": {},
   "source": [
    "# The <code>cupy</code> Package\n",
    "\n",
    "Multiprocessing is a topic in this course, the focus of which was intended to be multiprocessing with the CPU.  Given the advances in the <code>cupy</code> package recently, a quick tangent to cover this method of multiprocessing on the Graphic Processing Units (GPUs) is worthwhile because some computers are equipped with powerful graphics cards with a multitude of onboard processors.  Although each of these processors is much less powerful than the cores on our CPUs, their power lies in their multitude.  Here are the specs on my NVIDIA GeForce RTX 3090 graphics card:\n",
    "\n",
    "- 10496 computing cores\n",
    "- 24GB memory\n",
    "\n",
    "There is strength in the number of processors.  The GPU memory capacity, 24GB, is less than I have available to my CPU (64GB) and so this is a relative weakness.\n",
    "\n",
    "NVIDA's <code>cuda</code> is used by the <code>cupy</code> package and so only cuda-enabled NVIDIA graphcis card can run <code>cupy</code>: a list of those can be found [here](https://developer.nvidia.com/cuda-gpus).  You can check to see if your graphics card is listed here.  If it is, then you can run <code>cupy</code>.\n",
    "\n",
    "The advantage of <code>cupy</code> is that it used the many GPU processors and the variable data are structured so that computations can be distributed among the GPU processors and portions of a computation carried out in parallel fashion.\n",
    "\n",
    "The programming interface for <code>cupy</code> currently looks just like the <code>numpy</code> interface.  To use <code>cupy</code> use this import statement,\n",
    "\n",
    "``` python\n",
    "import cupy as cp\n",
    "```\n",
    "\n",
    "and then use the <code>cp</code> alias as you would <code>np</code>.\n",
    "\n",
    "See some of the <code>cupy</code> commands below, for example."
   ]
  },
  {
   "cell_type": "markdown",
   "id": "aba850e5",
   "metadata": {},
   "source": [
    "# Installing <code>cupy</code>\n",
    "\n",
    "I recommend creating a new anaconda environment for <code>cupy</code> by following these steps:\n",
    "\n",
    "- Open an Anaconda prompt as administrator\n",
    "- Execute the command <code>conda create --name __env_name__ cupy anaconda</code> where __env_name__ is the name you want to give this new environment.  Since its feature is <code>cupy</code> that is what I would call it.  The <code>cupy</code> argument causes <code>cupy</code> and the <code>anaconda</code> argument cause hundreds of the default anaconda packages to be downloaded.\n",
    "- Follow the default prompts to download and install all the packages.\n",
    "\n",
    "You will also need to install <code>cuda</code> on your computer.  See this [link](https://developer.nvidia.com/cuda-downloads)."
   ]
  },
  {
   "cell_type": "code",
   "execution_count": null,
   "id": "0daf75f2-1749-4cd2-bc52-4158df3a81aa",
   "metadata": {},
   "outputs": [],
   "source": [
    "import cupy as cp"
   ]
  },
  {
   "cell_type": "code",
   "execution_count": null,
   "id": "af0630f0-92c5-482f-8674-ca151bf61cec",
   "metadata": {},
   "outputs": [],
   "source": [
    "cp.arange(4).reshape(2,2)"
   ]
  },
  {
   "cell_type": "code",
   "execution_count": null,
   "id": "e531e084-344b-493f-b491-31af3393302a",
   "metadata": {},
   "outputs": [],
   "source": [
    "cp.zeros((3,3)).astype(cp.float32)"
   ]
  },
  {
   "cell_type": "code",
   "execution_count": null,
   "id": "f29780b9-c5c1-4e6b-b964-f490ad8b45e3",
   "metadata": {},
   "outputs": [],
   "source": [
    "cp.ones((3,3)).astype(cp.float16)"
   ]
  },
  {
   "cell_type": "markdown",
   "id": "302961a4",
   "metadata": {},
   "source": [
    "# Let's Get to Work!\n",
    "\n",
    "Let's compare the speed of <code>cupy</code> with <code>numpy</code> on the MNIST distance computation."
   ]
  },
  {
   "cell_type": "code",
   "execution_count": 8,
   "id": "1c295a5d-10a9-4a72-9384-df469fbf4e55",
   "metadata": {},
   "outputs": [],
   "source": [
    "import time\n",
    "import numpy as np"
   ]
  },
  {
   "cell_type": "code",
   "execution_count": 24,
   "id": "5433a00f-fa48-4d60-ad1c-27e711ffcf5b",
   "metadata": {},
   "outputs": [],
   "source": [
    "size=10000"
   ]
  },
  {
   "cell_type": "code",
   "execution_count": 33,
   "id": "37073f1d-14a8-4a98-bb40-b5782916b2a3",
   "metadata": {},
   "outputs": [],
   "source": [
    "''' Load numpy variables '''\n",
    "p = np.load(f'data/mnist1_{size}.npy').astype(np.float32)\n",
    "q = np.load(f'data/mnist2_{size}.npy').astype(np.float32)\n",
    "assert p.shape[0] == q.shape[0]\n",
    "assert p.shape[1] == 784\n",
    "assert q.shape[1] == 784\n",
    "\n",
    "n = p.shape[0]\n",
    "pixels = p.shape[1]"
   ]
  },
  {
   "cell_type": "code",
   "execution_count": 34,
   "id": "81515840-c5d2-4927-8c29-f1ac60b3e216",
   "metadata": {},
   "outputs": [
    {
     "name": "stdout",
     "output_type": "stream",
     "text": [
      "Exec. time: 1.0540456771850586 for 10000x10000\n",
      "[ 9.344169 10.68585   9.543656  8.203975  8.32884 ]\n"
     ]
    }
   ],
   "source": [
    "start = time.time()\n",
    "\n",
    "result_ein = np.sqrt(np.einsum('ij,ij->i',q,q)[:,np.newaxis] - 2*q@p.T + np.einsum('ij,ij->i',p,p))\n",
    "\n",
    "print(f'Exec. time: {time.time() - start} for {n}x{n}')\n",
    "print(result_ein[0,:5])"
   ]
  },
  {
   "cell_type": "code",
   "execution_count": 35,
   "id": "a9a22cee-62e7-47d3-8682-2bdbf48ba6e0",
   "metadata": {},
   "outputs": [],
   "source": [
    "''' Load cupy variables '''\n",
    "\n",
    "p = cp.load(f'data/mnist1_{size}.npy').astype(cp.float16)\n",
    "q = cp.load(f'data/mnist2_{size}.npy').astype(cp.float16)\n",
    "assert p.shape[0] == q.shape[0]\n",
    "assert p.shape[1] == 784\n",
    "assert q.shape[1] == 784\n",
    "\n",
    "n = p.shape[0]\n",
    "pixels = p.shape[1]"
   ]
  },
  {
   "cell_type": "code",
   "execution_count": 36,
   "id": "db2f9e4e-2f3a-46b9-8f04-000e7d2cd3c4",
   "metadata": {},
   "outputs": [
    {
     "name": "stdout",
     "output_type": "stream",
     "text": [
      "Exec. time: 0.041013240814208984 for 10000x10000\n",
      "[ 9.34 10.69  9.54  8.2   8.33]\n"
     ]
    }
   ],
   "source": [
    "start = time.time()\n",
    "\n",
    "result_ein = cp.sqrt(cp.einsum('ij,ij->i',q,q)[:,cp.newaxis] - 2*q@p.T + cp.einsum('ij,ij->i',p,p))\n",
    "\n",
    "print(f'Exec. time: {time.time() - start} for {n}x{n}')\n",
    "print(result_ein[0,:5])"
   ]
  },
  {
   "cell_type": "markdown",
   "id": "39b07b15-64a0-4e83-9c65-278651d5afc6",
   "metadata": {},
   "source": [
    "Memory problems are still possible with <code>cupy</code> and, perhaps more likely, so programming in a manner that minimizes the memory footprint is important.\n",
    "\n",
    "First, use lower precision data types <code>cp.float16</code> seems to have no adverse effects in <code>cupy</code> whereas this approach is actually slower then using <code>np.float32</code> in <code>numpy</code>.\n",
    "\n",
    "There are multiple ways to break computations into chunks to stay within memory constraints.\n",
    "\n",
    "- Use <code>np.split()</code>/<code>cp.split()</code>\n",
    "- Break computations with multiple operands into smaller computations and carefully delete variables when they are no longer needed"
   ]
  },
  {
   "cell_type": "code",
   "execution_count": 37,
   "id": "a34aab0b-4d7d-4a5c-955a-50b438df1bb1",
   "metadata": {},
   "outputs": [
    {
     "data": {
      "text/plain": [
       "array([[ 0,  1,  2,  3],\n",
       "       [ 4,  5,  6,  7],\n",
       "       [ 8,  9, 10, 11],\n",
       "       [12, 13, 14, 15],\n",
       "       [16, 17, 18, 19],\n",
       "       [20, 21, 22, 23],\n",
       "       [24, 25, 26, 27],\n",
       "       [28, 29, 30, 31],\n",
       "       [32, 33, 34, 35]])"
      ]
     },
     "execution_count": 37,
     "metadata": {},
     "output_type": "execute_result"
    }
   ],
   "source": [
    "x = np.arange(36).reshape(9,4)\n",
    "x"
   ]
  },
  {
   "cell_type": "code",
   "execution_count": 38,
   "id": "1e3c5c38-8f09-4ed8-9fe9-344f0cf67d4b",
   "metadata": {},
   "outputs": [
    {
     "data": {
      "text/plain": [
       "[array([[ 0,  1,  2,  3],\n",
       "        [ 4,  5,  6,  7],\n",
       "        [ 8,  9, 10, 11]]),\n",
       " array([[12, 13, 14, 15],\n",
       "        [16, 17, 18, 19],\n",
       "        [20, 21, 22, 23]]),\n",
       " array([[24, 25, 26, 27],\n",
       "        [28, 29, 30, 31],\n",
       "        [32, 33, 34, 35]])]"
      ]
     },
     "execution_count": 38,
     "metadata": {},
     "output_type": "execute_result"
    }
   ],
   "source": [
    "np.split(x, 3)"
   ]
  },
  {
   "cell_type": "markdown",
   "id": "e58e1e0b-6e49-45aa-885e-db455bf9fbbb",
   "metadata": {},
   "source": [
    "This example shows how to break a quadratic matrix function of this form,\n",
    "\n",
    "$x^T Q x + c^T x$,\n",
    "\n",
    "into smaller chunks."
   ]
  },
  {
   "cell_type": "code",
   "execution_count": 40,
   "id": "eb7c106c-bfbf-4f56-a8ad-0e7a296eb111",
   "metadata": {},
   "outputs": [
    {
     "data": {
      "text/plain": [
       "((20,), (20, 20), (20,))"
      ]
     },
     "execution_count": 40,
     "metadata": {},
     "output_type": "execute_result"
    }
   ],
   "source": [
    "x = np.random.random(20)\n",
    "Q = np.random.random((20,20))\n",
    "c = np.arange(20)\n",
    "x.shape, Q.shape, c.shape"
   ]
  },
  {
   "cell_type": "markdown",
   "id": "9da90701-7a4b-438f-b55f-dd941ec7f0b5",
   "metadata": {},
   "source": [
    "The entire equation at once."
   ]
  },
  {
   "cell_type": "code",
   "execution_count": 41,
   "id": "0f4244b4-c924-4d69-b4c7-81b7def318e2",
   "metadata": {},
   "outputs": [
    {
     "data": {
      "text/plain": [
       "134.95202466724632"
      ]
     },
     "execution_count": 41,
     "metadata": {},
     "output_type": "execute_result"
    }
   ],
   "source": [
    "x@Q@x + c@x"
   ]
  },
  {
   "cell_type": "code",
   "execution_count": 42,
   "id": "695de450-18d1-4feb-8a84-5753475c14a6",
   "metadata": {},
   "outputs": [
    {
     "data": {
      "text/plain": [
       "134.95202466724632"
      ]
     },
     "execution_count": 42,
     "metadata": {},
     "output_type": "execute_result"
    }
   ],
   "source": [
    "result = x@Q\n",
    "del Q\n",
    "result = result@x\n",
    "result += c@x\n",
    "del c, x\n",
    "result"
   ]
  },
  {
   "cell_type": "code",
   "execution_count": null,
   "id": "7b9b705d-e837-40b4-bfac-8ed5090ea328",
   "metadata": {},
   "outputs": [],
   "source": []
  }
 ],
 "metadata": {
  "kernelspec": {
   "display_name": "Python 3 (ipykernel)",
   "language": "python",
   "name": "python3"
  },
  "language_info": {
   "codemirror_mode": {
    "name": "ipython",
    "version": 3
   },
   "file_extension": ".py",
   "mimetype": "text/x-python",
   "name": "python",
   "nbconvert_exporter": "python",
   "pygments_lexer": "ipython3",
   "version": "3.11.8"
  }
 },
 "nbformat": 4,
 "nbformat_minor": 5
}
