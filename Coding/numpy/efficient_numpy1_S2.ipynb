{
 "cells": [
  {
   "cell_type": "markdown",
   "metadata": {},
   "source": [
    "# Introduction\n",
    "\n",
    "Writing effective algorithms with Python requires comptence with the <span style=\"font-family:'Courier New'\">numpy</span> package, which enables:\n",
    "- Fast execution\n",
    "- Minimum memory footprint\n",
    "\n",
    "Understanding <span style=\"font-family:'Courier New'\">numpy</span>, its speed, and how to use it more effectively requires a deeper examination of how variables are handled in memory.    \n",
    "\n",
    "This Jupyter notebook covers the essential basis of <span style=\"font-family:'Courier New'\">numpy</span> syntax and methods to get you on your way to writing faster code that uses less memory.  It focuses on basic techniques that are frequently useful in writing algorithms."
   ]
  },
  {
   "cell_type": "markdown",
   "metadata": {},
   "source": [
    "# <span style=\"font-family:'Courier New'\">numpy</span> versus Python Lists\n",
    "\n",
    "The first thing to understand is that <code>numpy</code> derives its speed from storing elements of arrays in contiguous blocks of memory and relying on the fast C programming language.\n",
    "\n",
    "![contiguous_memory](images/numpy_vs_list.jpg)\n",
    "\n",
    "While the advantages of faster execution with <code>numpy</code> are enormous a downside is that changing an array often causes it to be re-instantiated because, in part, the current contiguous memory block is no longer appropriate and so a new block of memory needs to be found and set up."
   ]
  },
  {
   "cell_type": "markdown",
   "metadata": {},
   "source": [
    "# Speed: Establish <span style=\"font-family:'Courier New'\">numpy</span> Variables Once <a class=\"anchor\" id=\"instan_numpy-once\">\n",
    "\n",
    "Any of these actions cause a <code>numpy</code> array to be re-instantiated, which takes a non-neglible amount of time:\n",
    "    \n",
    "- Concatenating <span style=\"font-family:'Courier New'\">numpy</span> arrays with <code>np.concatenate()</code>\n",
    "- Appending values to <span style=\"font-family:'Courier New'\">numpy</span> arrays with <code>np.append()</code>\n",
    "- Using <code>numpy np.vstack()</code> or <code>np.hstack()</code>\n",
    "- Change the data type of a <span style=\"font-family:'Courier New'\">numpy</span> array with <code>ndarray.astype()</code>\n",
    "- Resize a <span style=\"font-family:'Courier New'\">numpy</span> array with <code>np.resize()</code>\n",
    "\n",
    "Performing any one of these operations once on an array is fine.  Do not, however, perform any of these commands within a loop so that these operations are repeated many times.  Applying these commands multiple times within a loop is a poor idea: find a better, faster way.\n",
    "\n",
    "Alternate approaches to constructing a <code>numpy</code> array for which all the data is not immediately available include these:\n",
    "\n",
    "- Determine the required _size_, _shape_, and _data type_ of an array and establish it once by using either <code>np.zeros()<code> or <code>np.empty()<code>.  (The former is usually the better choice.)  Then, fill the reserved space with values are they are created.\n",
    "\n",
    "- Accumulate data with a Python list (or list of lists) and then, when all data is accumulated, convert the data once to a <code>numpy</code> array.\n",
    "\n",
    "Assume in the example below that we are filling a <span style=\"font-family:'Courier New'\">numpy</span> array with computed values, which I will simulate with random numbers.  The cells below illustrate methods that are slow because of repeated use of <code>numpy</code> array reinstantiation and faster methods along the lines of the bullets immediately above.  "
   ]
  },
  {
   "cell_type": "code",
   "execution_count": 1,
   "metadata": {},
   "outputs": [],
   "source": [
    "import numpy as np\n",
    "import time"
   ]
  },
  {
   "cell_type": "code",
   "execution_count": 2,
   "metadata": {},
   "outputs": [],
   "source": [
    "nrows = 10000\n",
    "ncols = 10"
   ]
  },
  {
   "cell_type": "code",
   "execution_count": 3,
   "metadata": {},
   "outputs": [
    {
     "name": "stdout",
     "output_type": "stream",
     "text": [
      "Execution time with reserved ndarray: 0.23441410064697266\n",
      "(10000, 10)\n"
     ]
    }
   ],
   "source": [
    "start = time.time()\n",
    "np_arr = np.random.rand(1,ncols)\n",
    "for i in range(nrows-1):\n",
    "    np_arr = np.vstack((np_arr, np.random.rand(1,ncols)))\n",
    "print(f'Execution time with reserved ndarray: {time.time() - start}')\n",
    "print(np_arr.shape)"
   ]
  },
  {
   "cell_type": "code",
   "execution_count": 5,
   "metadata": {},
   "outputs": [
    {
     "name": "stdout",
     "output_type": "stream",
     "text": [
      "Execution time with reserved ndarray: 0.2323760986328125\n",
      "(10, 10000)\n"
     ]
    }
   ],
   "source": [
    "start = time.time()\n",
    "np_arr = np.random.rand(ncols,1)\n",
    "for i in range(nrows-1):\n",
    "    np_arr = np.hstack((np_arr, np.random.rand(ncols,1)))\n",
    "print(f'Execution time with reserved ndarray: {time.time() - start}')\n",
    "print(np_arr.shape)"
   ]
  },
  {
   "cell_type": "code",
   "execution_count": 7,
   "metadata": {},
   "outputs": [
    {
     "name": "stdout",
     "output_type": "stream",
     "text": [
      "Execution time with reserved ndarray: 0.25133490562438965\n",
      "(10000, 10)\n"
     ]
    }
   ],
   "source": [
    "start = time.time()\n",
    "np_arr = np.random.rand(1,ncols)\n",
    "for i in range(nrows-1):\n",
    "    np_arr = np.append(np_arr, np.random.rand(1,ncols), axis=0)\n",
    "print(f'Execution time with reserved ndarray: {time.time() - start}')\n",
    "print(np_arr.shape)"
   ]
  },
  {
   "cell_type": "code",
   "execution_count": 9,
   "metadata": {},
   "outputs": [
    {
     "name": "stdout",
     "output_type": "stream",
     "text": [
      "Execution time with reserved ndarray: 0.18925690650939941\n",
      "(10000, 10)\n"
     ]
    }
   ],
   "source": [
    "start = time.time()\n",
    "np_arr = np.random.rand(1,ncols)\n",
    "for i in range(nrows-1):\n",
    "    np_arr = np.concatenate((np_arr, np.random.rand(1,ncols)))\n",
    "print(f'Execution time with reserved ndarray: {time.time() - start}')\n",
    "print(np_arr.shape)"
   ]
  },
  {
   "cell_type": "markdown",
   "metadata": {},
   "source": [
    "It is much faster to create a numpy array of sufficient size once to reserve space and just replace its values as the algorithm progresses."
   ]
  },
  {
   "cell_type": "code",
   "execution_count": 10,
   "metadata": {},
   "outputs": [],
   "source": [
    "np_res = np.zeros((nrows, ncols))"
   ]
  },
  {
   "cell_type": "code",
   "execution_count": 11,
   "metadata": {},
   "outputs": [
    {
     "name": "stdout",
     "output_type": "stream",
     "text": [
      "Execution time with reserved ndarray: 0.01589798927307129\n",
      "(10000, 10)\n"
     ]
    }
   ],
   "source": [
    "start = time.time()\n",
    "for i in range(nrows):\n",
    "    new_row = np.random.rand(1,ncols)\n",
    "    np_res[i] = new_row\n",
    "print(f'Execution time with reserved ndarray: {time.time() - start}')\n",
    "print(np_res.shape)"
   ]
  },
  {
   "cell_type": "markdown",
   "metadata": {},
   "source": [
    "If you do feel the need to append to a data structure as an algorithm progresses without defining a <code>numpy</code> array to reserve space, then accumulating data initially in a Python list before converting to a <code>numpy</code> is much faster."
   ]
  },
  {
   "cell_type": "code",
   "execution_count": 12,
   "metadata": {},
   "outputs": [
    {
     "name": "stdout",
     "output_type": "stream",
     "text": [
      "Execution time with reserved ndarray: 0.019886493682861328\n",
      "(10000, 1, 10)\n"
     ]
    }
   ],
   "source": [
    "start = time.time()\n",
    "np_arr = []\n",
    "for i in range(nrows):\n",
    "    np_arr.append(np.random.rand(1,ncols)) \n",
    "np_arr = np.array(np_arr)\n",
    "print(f'Execution time with reserved ndarray: {time.time() - start}')\n",
    "print(np_arr.shape)"
   ]
  },
  {
   "cell_type": "markdown",
   "metadata": {},
   "source": [
    "## Selecting Elements from <code>numpy</code> Arrays \n",
    "\n",
    "Before we continue with the topic of writing faster code, let's refresh or learn about some very useful <code>numpy</code> methods.\n",
    "\n",
    "- <span style=\"font-family:'Courier New'\">np.min()</span>\n",
    "- <span style=\"font-family:'Courier New'\">np.max()</span>\n",
    "- <span style=\"font-family:'Courier New'\">np.argmin()</span>\n",
    "- <span style=\"font-family:'Courier New'\">np.argmax()</span>\n",
    "\n",
    "Algorithms frequently require that either the minimum or maximum elements be selected from an array/list or, in a more complex manner, the best element fitting particular criteria is sought."
   ]
  },
  {
   "cell_type": "markdown",
   "metadata": {},
   "source": [
    "One one just find the least or greatest array elements using the <code>np.min()</code> or <code>np.max()</code> methods, respectively."
   ]
  },
  {
   "cell_type": "code",
   "execution_count": 13,
   "metadata": {},
   "outputs": [
    {
     "data": {
      "text/plain": [
       "array([3, 4, 5, 1, 1, 0, 6, 5, 5, 6])"
      ]
     },
     "execution_count": 13,
     "metadata": {},
     "output_type": "execute_result"
    }
   ],
   "source": [
    "x = np.random.randint(0,10,(10,))\n",
    "x"
   ]
  },
  {
   "cell_type": "code",
   "execution_count": 14,
   "metadata": {},
   "outputs": [
    {
     "name": "stdout",
     "output_type": "stream",
     "text": [
      "[3 4 5 1 1 0 6 5 5 6]\n",
      "0 0\n",
      "6 6\n"
     ]
    }
   ],
   "source": [
    "print(x)\n",
    "print(x.min(), np.min(x))\n",
    "print(x.max(), np.max(x))"
   ]
  },
  {
   "cell_type": "markdown",
   "metadata": {},
   "source": [
    "One might also find the leat and greatest elements using the <code>np.argmin()</code> or <code>np.argmax()</code> methods, respectively, although this requires a second statement to actually retrieve the element values."
   ]
  },
  {
   "cell_type": "code",
   "execution_count": 15,
   "metadata": {},
   "outputs": [
    {
     "name": "stdout",
     "output_type": "stream",
     "text": [
      "[3 4 5 1 1 0 6 5 5 6]\n",
      "5 0\n",
      "6 6\n"
     ]
    }
   ],
   "source": [
    "idx_min = x.argmin()\n",
    "idx_max = x.argmax()\n",
    "print(x)\n",
    "print(idx_min, x[idx_min])\n",
    "print(idx_max, x[idx_max])"
   ]
  },
  {
   "cell_type": "markdown",
   "metadata": {},
   "source": [
    "Despite needing a second statement to obtain a value, knowing the index of a minimum/maximum is quite useful when one must select multiple elements from an array and keep track of which elements have been selected so that they are not selected again.  This is the focus of a subsequent section in this Jupyter notebook."
   ]
  },
  {
   "cell_type": "markdown",
   "metadata": {},
   "source": [
    "The <code>np.argsort()</code> method can be useful to find the element from a list that, rather than being the least or greatest element, is the largest (smallest) item smaller (larger) than some upper (lower)limit."
   ]
  },
  {
   "cell_type": "code",
   "execution_count": 16,
   "metadata": {},
   "outputs": [
    {
     "name": "stdout",
     "output_type": "stream",
     "text": [
      "x: [3 4 5 1 1 0 6 5 5 6]\n",
      "idx_sort: [5 3 4 0 1 2 7 8 6 9]\n",
      "x[idx_sort]: [0 1 1 3 4 5 5 5 6 6]\n"
     ]
    }
   ],
   "source": [
    "idx_sort = np.argsort(x)\n",
    "print(f'x: {x}')\n",
    "print(f'idx_sort: {idx_sort}')\n",
    "print(f'x[idx_sort]: {x[idx_sort]}')"
   ]
  },
  {
   "cell_type": "code",
   "execution_count": 17,
   "metadata": {},
   "outputs": [
    {
     "name": "stdout",
     "output_type": "stream",
     "text": [
      "4 1 4\n"
     ]
    }
   ],
   "source": [
    "# Find the largest element less than 5\n",
    "i = -1\n",
    "while x[idx_sort[i+1]] < 5 and i+1 < x.shape[0]:\n",
    "    i += 1\n",
    "print(i, idx_sort[i], x[idx_sort[i]])"
   ]
  },
  {
   "cell_type": "markdown",
   "metadata": {},
   "source": [
    "Recall one method for sorting in descending order."
   ]
  },
  {
   "cell_type": "code",
   "execution_count": 18,
   "metadata": {},
   "outputs": [
    {
     "name": "stdout",
     "output_type": "stream",
     "text": [
      "x: [3 4 5 1 1 0 6 5 5 6]\n",
      "idx_sort: [9 6 8 7 2 1 0 4 3 5]\n",
      "x[idx_sort]: [6 6 5 5 5 4 3 1 1 0]\n"
     ]
    }
   ],
   "source": [
    "idx_sort = np.argsort(x)\n",
    "idx_sort = np.flip(idx_sort)\n",
    "print(f'x: {x}')\n",
    "print(f'idx_sort: {idx_sort}')\n",
    "print(f'x[idx_sort]: {x[idx_sort]}')"
   ]
  },
  {
   "cell_type": "markdown",
   "metadata": {},
   "source": [
    "This is another method, although it is perhaps less intuitive."
   ]
  },
  {
   "cell_type": "code",
   "execution_count": 23,
   "metadata": {},
   "outputs": [
    {
     "data": {
      "text/plain": [
       "array([0, 1])"
      ]
     },
     "execution_count": 23,
     "metadata": {},
     "output_type": "execute_result"
    }
   ],
   "source": [
    "x[::-2]"
   ]
  },
  {
   "cell_type": "code",
   "execution_count": null,
   "metadata": {},
   "outputs": [],
   "source": []
  },
  {
   "cell_type": "code",
   "execution_count": 24,
   "metadata": {},
   "outputs": [
    {
     "name": "stdout",
     "output_type": "stream",
     "text": [
      "x: [3 4 5 1 1 0 6 5 5 6]\n",
      "idx_sort: [9 6 8 7 2 1 0 4 3 5]\n",
      "x[idx_sort]: [6 6 5 5 5 4 3 1 1 0]\n"
     ]
    }
   ],
   "source": [
    "idx_sort = np.argsort(x)\n",
    "idx_sort = idx_sort[::-1]\n",
    "print(f'x: {x}')\n",
    "print(f'idx_sort: {idx_sort}')\n",
    "print(f'x[idx_sort]: {x[idx_sort]}')"
   ]
  },
  {
   "cell_type": "markdown",
   "metadata": {},
   "source": [
    "## Application: The Cell Tower Problem"
   ]
  },
  {
   "cell_type": "code",
   "execution_count": 25,
   "metadata": {},
   "outputs": [],
   "source": [
    "import random\n",
    "\n",
    "def setup():\n",
    "    prob_size = 100000\n",
    "    data = [random.random() for _ in range(prob_size)]\n",
    "    budget = 5.0\n",
    "    return data, budget"
   ]
  },
  {
   "cell_type": "markdown",
   "metadata": {},
   "source": [
    "### Python List with Deletion of Used Elements"
   ]
  },
  {
   "cell_type": "markdown",
   "metadata": {},
   "source": [
    "### With a <code>for</code> Loop"
   ]
  },
  {
   "cell_type": "code",
   "execution_count": 31,
   "metadata": {},
   "outputs": [
    {
     "name": "stdout",
     "output_type": "stream",
     "text": [
      "Investment: 4.999991508915416 \n",
      "Execution time: 0.8108720779418945 seconds \n",
      "Towers selected: [0.9934674098020638, 0.4293612281217565, 0.8011028232077307, 0.32127796505359973, 0.9008191006839773, 0.8336062469480436, 0.4104362718762714, 0.26382215044725454, 0.024055378599996846, 0.005408671819293498, 0.010328840585866472, 0.004834862860862432, 0.0002656174909477782, 0.0005865682229795333, 0.0003241534965853221, 0.0002688027419736061, 2.5416956211277153e-05]\n"
     ]
    }
   ],
   "source": [
    "import random\n",
    "import time\n",
    "\n",
    "towers, budget = setup()\n",
    "time_start = time.time()\n",
    "\n",
    "towers_to_pick = []\n",
    "\n",
    "while len(towers) > 0:\n",
    "    if sum(towers_to_pick) + towers[0] <= budget:\n",
    "        towers_to_pick.append(towers[0])\n",
    "    del towers[0]\n",
    "\n",
    "print(f'Investment: {sum(towers_to_pick)} \\nExecution time: {time.time() - time_start} seconds \\nTowers selected: {towers_to_pick}')"
   ]
  },
  {
   "cell_type": "code",
   "execution_count": 27,
   "metadata": {},
   "outputs": [
    {
     "name": "stdout",
     "output_type": "stream",
     "text": [
      "Investment: 4.99999890172629 \n",
      "Execution time: 0.6602396965026855 seconds \n",
      "Towers selected: [0.21562679650303962, 0.5423034688511182, 0.5886512717720827, 0.7559991686800165, 0.8273748236736628, 0.5364116932236599, 0.05864319330809653, 0.7071218882303119, 0.7174247795742337, 0.0006382341927648749, 0.0023629910030122936, 0.035925874355512866, 0.004379863966321729, 0.006651256138675343, 0.0003979558236313352, 5.53847131978813e-05, 6.140090381578922e-06, 1.919768299707414e-05, 4.919943571879415e-06]\n"
     ]
    }
   ],
   "source": [
    "import random\n",
    "import time\n",
    "\n",
    "towers, budget = setup()\n",
    "time_start = time.time()\n",
    "\n",
    "towers_to_pick = []\n",
    "\n",
    "while len(towers) > 0:\n",
    "    if sum(towers_to_pick) + towers[0] <= budget:\n",
    "        towers_to_pick.append(towers.pop(0))\n",
    "    else:\n",
    "        _ = towers.pop(0)\n",
    "\n",
    "print(f'Investment: {sum(towers_to_pick)} \\nExecution time: {time.time() - time_start} seconds \\nTowers selected: {towers_to_pick}')"
   ]
  },
  {
   "cell_type": "markdown",
   "metadata": {},
   "source": [
    "### <code>numpy</code> with Slices to Delete Used Elements"
   ]
  },
  {
   "cell_type": "code",
   "execution_count": 28,
   "metadata": {},
   "outputs": [
    {
     "name": "stdout",
     "output_type": "stream",
     "text": [
      "Investment: 4.999994611142798 \n",
      "Execution time: 0.42286252975463867 seconds \n",
      "Towers selected: [7.64977731e-02 2.90739914e-01 6.92388483e-01 4.63982430e-01\n",
      " 6.26575702e-01 9.95139482e-02 7.78675881e-01 8.80254723e-01\n",
      " 5.42383936e-01 2.83104473e-01 1.21872676e-01 1.10379945e-01\n",
      " 2.90605390e-02 1.31231629e-03 1.19444222e-04 1.00216920e-03\n",
      " 2.12123563e-03 9.02175587e-06]\n"
     ]
    }
   ],
   "source": [
    "import numpy as np\n",
    "\n",
    "towers, budget = setup()\n",
    "towers = np.array(towers)\n",
    "time_start = time.time()\n",
    "\n",
    "towers_to_pick = np.array([])\n",
    "\n",
    "while towers_to_pick.sum() < budget and towers.shape[0] > 0:\n",
    "    if towers_to_pick.sum() + towers[0] <= budget:\n",
    "        towers_to_pick = np.append(towers_to_pick, towers[0])\n",
    "    towers = towers[1:]\n",
    "\n",
    "print(f'Investment: {sum(towers_to_pick)} \\nExecution time: {time.time() - time_start} seconds \\nTowers selected: {towers_to_pick}')"
   ]
  },
  {
   "cell_type": "markdown",
   "metadata": {},
   "source": [
    "### Efficient <code>numpy</code> with Reserved Memory for Array"
   ]
  },
  {
   "cell_type": "code",
   "execution_count": 32,
   "metadata": {},
   "outputs": [
    {
     "name": "stdout",
     "output_type": "stream",
     "text": [
      "Investment: 4.999998976665665 \n",
      "Execution time: 0.019945144653320312 seconds \n",
      "Towers selected: [4.78883743e-01 2.99341470e-01 2.80402660e-01 3.21480811e-01\n",
      " 8.71297777e-01 1.57576948e-01 7.82595336e-01 1.76710367e-01\n",
      " 5.48458576e-01 3.49544697e-02 7.72726476e-01 8.02813768e-02\n",
      " 2.26078983e-02 5.69920503e-02 1.05543554e-01 3.48005560e-03\n",
      " 6.22145412e-03 1.94454158e-04 1.77910828e-04 7.15875940e-05]\n"
     ]
    }
   ],
   "source": [
    "import numpy as np\n",
    "\n",
    "towers, budget = setup()\n",
    "towers = np.array(towers)\n",
    "time_start = time.time()\n",
    "\n",
    "''' Reserve space for solution of maximum possible size '''\n",
    "towers_to_pick = np.zeros(towers.shape[0], dtype=np.float32)  # do not use np.empty()!!!\n",
    "\n",
    "j = 0  # counter for number of elements packed and the index of the next element to be packed\n",
    "for vol in towers:\n",
    "    if vol <= budget:\n",
    "        towers_to_pick[j] = vol\n",
    "        budget -= vol\n",
    "        j += 1\n",
    "\n",
    "towers_to_pick = towers_to_pick[:j]\n",
    "print(f'Investment: {sum(towers_to_pick)} \\nExecution time: {time.time() - time_start} seconds \\nTowers selected: {towers_to_pick[:j]}')"
   ]
  },
  {
   "cell_type": "markdown",
   "metadata": {},
   "source": [
    "## Boolean Masks\n",
    "\n",
    "A Boolean (<code>True</code>/<code>False</code>) array can be used to filter out values from a <code>numpy</code> array.  Array elements whose position coincide with a <code>False</code> are filtered out."
   ]
  },
  {
   "cell_type": "markdown",
   "metadata": {},
   "source": [
    "### Example 1"
   ]
  },
  {
   "cell_type": "code",
   "execution_count": 33,
   "metadata": {},
   "outputs": [
    {
     "data": {
      "text/plain": [
       "array([0, 1, 2, 3, 4])"
      ]
     },
     "execution_count": 33,
     "metadata": {},
     "output_type": "execute_result"
    }
   ],
   "source": [
    "size = 5\n",
    "x = np.arange(size)\n",
    "x"
   ]
  },
  {
   "cell_type": "code",
   "execution_count": 34,
   "metadata": {},
   "outputs": [
    {
     "data": {
      "text/plain": [
       "array([False,  True, False,  True, False])"
      ]
     },
     "execution_count": 34,
     "metadata": {},
     "output_type": "execute_result"
    }
   ],
   "source": [
    "mask_x = np.array([True if i%2==1 else False for i in range(size)])\n",
    "mask_x"
   ]
  },
  {
   "cell_type": "code",
   "execution_count": 35,
   "metadata": {},
   "outputs": [
    {
     "name": "stdout",
     "output_type": "stream",
     "text": [
      "[1 3]\n"
     ]
    }
   ],
   "source": [
    "print(x[mask_x])"
   ]
  },
  {
   "cell_type": "markdown",
   "metadata": {},
   "source": [
    "### Example 2"
   ]
  },
  {
   "cell_type": "code",
   "execution_count": 36,
   "metadata": {},
   "outputs": [
    {
     "data": {
      "text/plain": [
       "array([[ 0,  1,  2,  3,  4],\n",
       "       [ 5,  6,  7,  8,  9],\n",
       "       [10, 11, 12, 13, 14],\n",
       "       [15, 16, 17, 18, 19],\n",
       "       [20, 21, 22, 23, 24]])"
      ]
     },
     "execution_count": 36,
     "metadata": {},
     "output_type": "execute_result"
    }
   ],
   "source": [
    "y = np.arange(size**2).reshape(size,size)\n",
    "y"
   ]
  },
  {
   "cell_type": "code",
   "execution_count": 37,
   "metadata": {},
   "outputs": [
    {
     "data": {
      "text/plain": [
       "array([[False,  True, False,  True, False],\n",
       "       [ True, False,  True, False,  True],\n",
       "       [False,  True, False,  True, False],\n",
       "       [ True, False,  True, False,  True],\n",
       "       [False,  True, False,  True, False]])"
      ]
     },
     "execution_count": 37,
     "metadata": {},
     "output_type": "execute_result"
    }
   ],
   "source": [
    "mask_y = np.array([True if i%2==1 else False for i in range(size**2)]).reshape(5,5)\n",
    "mask_y"
   ]
  },
  {
   "cell_type": "code",
   "execution_count": 38,
   "metadata": {},
   "outputs": [
    {
     "name": "stdout",
     "output_type": "stream",
     "text": [
      "[ 1  3  5  7  9 11 13 15 17 19 21 23]\n"
     ]
    }
   ],
   "source": [
    "print(y[mask_y])"
   ]
  },
  {
   "cell_type": "markdown",
   "metadata": {},
   "source": [
    "### Example 3: Select Array Rows"
   ]
  },
  {
   "cell_type": "code",
   "execution_count": null,
   "metadata": {},
   "outputs": [],
   "source": [
    "row_mask = [False, True, False, True, True]"
   ]
  },
  {
   "cell_type": "code",
   "execution_count": null,
   "metadata": {},
   "outputs": [],
   "source": [
    "y[row_mask]"
   ]
  },
  {
   "cell_type": "code",
   "execution_count": null,
   "metadata": {},
   "outputs": [],
   "source": [
    "y[row_mask,:]"
   ]
  },
  {
   "cell_type": "markdown",
   "metadata": {},
   "source": [
    "### Example 4: Select Array Columns"
   ]
  },
  {
   "cell_type": "code",
   "execution_count": null,
   "metadata": {},
   "outputs": [],
   "source": [
    "col_mask = [True, False, False, False, True]"
   ]
  },
  {
   "cell_type": "code",
   "execution_count": null,
   "metadata": {},
   "outputs": [],
   "source": [
    "y[:,col_mask]"
   ]
  },
  {
   "cell_type": "markdown",
   "metadata": {},
   "source": [
    "### Example 5: Select Array Rows and columns"
   ]
  },
  {
   "cell_type": "code",
   "execution_count": null,
   "metadata": {},
   "outputs": [],
   "source": [
    "y[row_mask,:][:,col_mask]"
   ]
  },
  {
   "cell_type": "markdown",
   "metadata": {},
   "source": [
    "### Example 6: Select on Criterion"
   ]
  },
  {
   "cell_type": "code",
   "execution_count": 39,
   "metadata": {},
   "outputs": [
    {
     "data": {
      "text/plain": [
       "array([0.08242117, 0.7819544 , 0.14669159, 0.02744034, 0.30782551])"
      ]
     },
     "execution_count": 39,
     "metadata": {},
     "output_type": "execute_result"
    }
   ],
   "source": [
    "z = np.random.random(size = (size,))\n",
    "z"
   ]
  },
  {
   "cell_type": "code",
   "execution_count": 40,
   "metadata": {},
   "outputs": [
    {
     "data": {
      "text/plain": [
       "array([False,  True, False, False, False])"
      ]
     },
     "execution_count": 40,
     "metadata": {},
     "output_type": "execute_result"
    }
   ],
   "source": [
    "z >= 0.5"
   ]
  },
  {
   "cell_type": "code",
   "execution_count": null,
   "metadata": {},
   "outputs": [],
   "source": [
    "mask_z = (z >= 0.5)\n",
    "mask_z"
   ]
  },
  {
   "cell_type": "code",
   "execution_count": null,
   "metadata": {},
   "outputs": [],
   "source": [
    "z[mask_z]"
   ]
  },
  {
   "cell_type": "code",
   "execution_count": 41,
   "metadata": {},
   "outputs": [
    {
     "data": {
      "text/plain": [
       "array([0.7819544])"
      ]
     },
     "execution_count": 41,
     "metadata": {},
     "output_type": "execute_result"
    }
   ],
   "source": [
    "z[z >= 0.5]"
   ]
  },
  {
   "cell_type": "markdown",
   "metadata": {},
   "source": [
    "## Application 2: Traveling Salesperson Problem\n",
    "\n",
    "In this problem, the task is to maintain the original data in its original instantiation without deleting the data pertaining to the destinations already included in the Traveling Salesperson's route."
   ]
  },
  {
   "cell_type": "markdown",
   "metadata": {},
   "source": [
    "### A Traveling Salesperson Problem (TSP) Greedy Algorithm"
   ]
  },
  {
   "cell_type": "markdown",
   "metadata": {},
   "source": [
    "Randomly select a location to start.  Assume that we select Location 1.\n",
    "\n",
    "- Loop until all locations visited\n",
    "  - For each location, choose the next location to be closest possible next location of locations not yet visited\n",
    "  \n",
    "![AlgoStep1](images/m1.jpg)\n",
    "![AlgoStep2](images/m2.jpg)\n",
    "![AlgoStep3](images/m3.jpg)\n",
    "![AlgoStep4](images/m4.jpg)\n",
    "![AlgoStep5](images/m5.jpg)\n",
    "\n",
    "Route: 1-2-0-4-3-1\n",
    "\n",
    "This algorithm could be implemented by deleting an array column when each next stop location is determined.  One could, alternately, \"mask\" out those columns so that locations already in the route could not be revisited.  The latter approach avoids needing to re-instantiate the array multiple times."
   ]
  },
  {
   "cell_type": "markdown",
   "metadata": {},
   "source": [
    "#### Set up the data"
   ]
  },
  {
   "cell_type": "code",
   "execution_count": null,
   "metadata": {},
   "outputs": [],
   "source": [
    "# create distance matrix\n",
    "nloc = 10\n",
    "dist = np.random.rand(nloc,nloc)\n",
    "dist = np.triu(dist,k=0)\n",
    "for i in range(1,nloc):\n",
    "    for j in range(0, i):\n",
    "        dist[i,j] = dist[j,i]\n",
    "for i in range(nloc):\n",
    "    dist[i,i]=0.0\n",
    "dist"
   ]
  },
  {
   "cell_type": "code",
   "execution_count": null,
   "metadata": {},
   "outputs": [],
   "source": [
    "''' Set up parameters '''\n",
    "nloc = dist.shape[0]                      # number of locations\n",
    "assert dist.shape[0] == dist.shape[1]     # ensure square distance matrix\n",
    "\n",
    "''' Initialize random starting point '''\n",
    "start = np.random.randint(0, nloc-1)      # select random starting location\n",
    "sol = [start]                             # solution route in a list\n",
    "cur_loc = start                           # use cur_loc to indicate current location index\n",
    "\n",
    "''' Establish Boolean mask for the columns: True = column location not visited '''\n",
    "col_mask = np.ones(nloc).astype(np.bool_) # creates array of True\n",
    "col_mask[start] = False                   # cannot choose starting location as\n",
    "                                          # next location\n",
    "\n",
    "''' Create ndarray of column indices '''\n",
    "col_indices = np.arange(nloc)             # create array of indices\n",
    "\n",
    "''' Initial distance of solution '''\n",
    "sol_dist = 0.0                            # initialize distance of solution\n",
    "\n",
    "''' Execute algorithm '''\n",
    "while col_mask.sum() > 0:              # continue if any True values in col_mask\n",
    "    ''' Get index of next location '''\n",
    "    next_loc_ind = np.argmin(dist[cur_loc][col_mask])  # get index of row minimum for\n",
    "                                                       #  remaining locations\n",
    "    next_loc_ind = col_indices[col_mask][next_loc_ind] # find index of minimum relative to original\n",
    "                                                       #   indices (true index of location)\n",
    "    \n",
    "    ''' Update solution and mask '''\n",
    "    sol.append(next_loc_ind)                   # append next location to solution\n",
    "    col_mask[next_loc_ind] = False             # update mask for current location\n",
    "    sol_dist += dist[cur_loc, next_loc_ind]    # update solution distance\n",
    "    cur_loc = next_loc_ind                     # update current location\n",
    "\n",
    "sol.append(start)       # append starting location for round trip\n",
    "sol_dist += dist[cur_loc, start]\n",
    "sol, sol_dist"
   ]
  },
  {
   "cell_type": "code",
   "execution_count": null,
   "metadata": {},
   "outputs": [],
   "source": []
  }
 ],
 "metadata": {
  "kernelspec": {
   "display_name": "Python 3 (ipykernel)",
   "language": "python",
   "name": "python3"
  },
  "language_info": {
   "codemirror_mode": {
    "name": "ipython",
    "version": 3
   },
   "file_extension": ".py",
   "mimetype": "text/x-python",
   "name": "python",
   "nbconvert_exporter": "python",
   "pygments_lexer": "ipython3",
   "version": "3.9.18"
  }
 },
 "nbformat": 4,
 "nbformat_minor": 4
}
