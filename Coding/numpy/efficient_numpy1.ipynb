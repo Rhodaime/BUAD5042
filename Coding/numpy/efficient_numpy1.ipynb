{
 "cells": [
  {
   "cell_type": "markdown",
   "metadata": {},
   "source": [
    "# Introduction\n",
    "\n",
    "Writing effective algorithms with Python requires comptence with the <span style=\"font-family:'Courier New'\">numpy</span> package, which enables:\n",
    "- Fast execution\n",
    "- Minimum memory footprint\n",
    "\n",
    "Understanding <span style=\"font-family:'Courier New'\">numpy</span>, its speed, and how to use it more effectively requires a deeper examination of how variables are handled in memory.    \n",
    "\n",
    "This Jupyter notebook covers the essential basis of <span style=\"font-family:'Courier New'\">numpy</span> syntax and methods to get you on your way to writing faster code that uses less memory.  It focuses on basic techniques that are frequently useful in writing algorithms."
   ]
  },
  {
   "cell_type": "markdown",
   "metadata": {},
   "source": [
    "# <span style=\"font-family:'Courier New'\">numpy</span> versus Python Lists\n",
    "\n",
    "The first things to understand is that <code>numpy</code> derives its speed from storing elements of arrays in contiguous blocks of memory and relying on the fast C programming language.\n",
    "\n",
    "![contiguous_memory](images/numpy_vs_list.jpg)"
   ]
  },
  {
   "cell_type": "markdown",
   "metadata": {},
   "source": [
    "# Speed: Establish <span style=\"font-family:'Courier New'\">numpy</span> Variables Once <a class=\"anchor\" id=\"instan_numpy-once\">\n",
    "\n",
    "Any of these actions cause a <code>numpy</code> array to be re-instantiated, which negates the speed advantages you could garner with <code>numpy</code>.  So, avoid these operations:\n",
    "    \n",
    "- Resize a <span style=\"font-family:'Courier New'\">numpy</span> array \n",
    "- Change the data type of a <span style=\"font-family:'Courier New'\">numpy</span> array   \n",
    "- Take a slice of a <span style=\"font-family:'Courier New'\">numpy</span> array \n",
    "- Concatenating <span style=\"font-family:'Courier New'\">numpy</span> arrays\n",
    "- Appending values to <span style=\"font-family:'Courier New'\">numpy</span> arrays\n",
    "- Using <code>numpy np.vstack()</code> or <code>np.hstack()</code>\n",
    "\n",
    "Prevent needing to re-instantiating a <span style=\"font-family:'Courier New'\">numpy ndarray</span>s by determining the required _size_, _shape_, and _data type_ of the array and establish it once.\n",
    "\n",
    "Assume in the example below we are are filling a <span style=\"font-family:'Courier New'\">numpy</span> array with values that we are computing, which I will simulate with random numbers.  We will do this two ways, one with reserving space for the results first, and, the second, appending rows to the original <span style=\"font-family:'Courier New'\">numpy</span> array as we create the values.  The second way causes the numpy array to be reconstructed many times."
   ]
  },
  {
   "cell_type": "code",
   "execution_count": 1,
   "metadata": {},
   "outputs": [],
   "source": [
    "import numpy as np\n",
    "import time"
   ]
  },
  {
   "cell_type": "code",
   "execution_count": 2,
   "metadata": {},
   "outputs": [],
   "source": [
    "nrows = 10000\n",
    "ncols = 10"
   ]
  },
  {
   "cell_type": "markdown",
   "metadata": {},
   "source": [
    "The numpy methods used below recreate the <code>numpy</code> array each time the method is called, which caused execution to be incredibly slow.\n",
    "\n",
    "- <code>np.hstack()</code>\n",
    "- <code>np.vstack()</code>\n",
    "- <code>np.concatenate()</code>\n",
    "- <code>np.append()</code>\n",
    "\n",
    "These methods applied multiple times within a loop is basically a poor idea.\n",
    "\n",
    "Operations with <code>numpy</code> arrays are very fast once the arrays are created, but instantiating a <code>numpy</code> array takes non-neglible time."
   ]
  },
  {
   "cell_type": "code",
   "execution_count": 4,
   "metadata": {},
   "outputs": [
    {
     "name": "stdout",
     "output_type": "stream",
     "text": [
      "Execution time with reserved ndarray: 0.13271784782409668\n",
      "(10000, 10)\n"
     ]
    }
   ],
   "source": [
    "start = time.time()\n",
    "np_arr = np.random.rand(1,ncols)\n",
    "for i in range(nrows-1):\n",
    "    np_arr = np.vstack((np_arr, np.random.rand(1,ncols)))\n",
    "print(f'Execution time with reserved ndarray: {time.time() - start}')\n",
    "print(np_arr.shape)"
   ]
  },
  {
   "cell_type": "code",
   "execution_count": 12,
   "metadata": {},
   "outputs": [
    {
     "name": "stdout",
     "output_type": "stream",
     "text": [
      "Execution time with reserved ndarray: 0.14214706420898438\n",
      "(10, 10000)\n"
     ]
    }
   ],
   "source": [
    "start = time.time()\n",
    "np_arr = np.random.rand(ncols,1)\n",
    "for i in range(nrows-1):\n",
    "    np_arr = np.hstack((np_arr, np.random.rand(ncols,1)))\n",
    "print(f'Execution time with reserved ndarray: {time.time() - start}')\n",
    "print(np_arr.shape)"
   ]
  },
  {
   "cell_type": "code",
   "execution_count": 5,
   "metadata": {},
   "outputs": [
    {
     "name": "stdout",
     "output_type": "stream",
     "text": [
      "Execution time with reserved ndarray: 0.12223935127258301\n",
      "(10000, 10)\n"
     ]
    }
   ],
   "source": [
    "start = time.time()\n",
    "np_arr = np.random.rand(1,ncols)\n",
    "for i in range(nrows-1):\n",
    "    np_arr = np.append(np_arr, np.random.rand(1,ncols), axis=0)\n",
    "print(f'Execution time with reserved ndarray: {time.time() - start}')\n",
    "print(np_arr.shape)"
   ]
  },
  {
   "cell_type": "code",
   "execution_count": 6,
   "metadata": {},
   "outputs": [
    {
     "name": "stdout",
     "output_type": "stream",
     "text": [
      "Execution time with reserved ndarray: 0.11562895774841309\n",
      "(10000, 10)\n"
     ]
    }
   ],
   "source": [
    "start = time.time()\n",
    "np_arr = np.random.rand(1,ncols)\n",
    "for i in range(nrows-1):\n",
    "    np_arr = np.concatenate((np_arr, np.random.rand(1,ncols)))\n",
    "print(f'Execution time with reserved ndarray: {time.time() - start}')\n",
    "print(np_arr.shape)"
   ]
  },
  {
   "cell_type": "markdown",
   "metadata": {},
   "source": [
    "It is much faster to create a numpy array of sufficient size once to reserve space and just replace its values as the algorithm progresses."
   ]
  },
  {
   "cell_type": "code",
   "execution_count": 7,
   "metadata": {},
   "outputs": [],
   "source": [
    "np_res = np.zeros((nrows, ncols))"
   ]
  },
  {
   "cell_type": "code",
   "execution_count": 8,
   "metadata": {},
   "outputs": [
    {
     "name": "stdout",
     "output_type": "stream",
     "text": [
      "Execution time with reserved ndarray: 0.015741586685180664\n",
      "(10000, 10)\n"
     ]
    }
   ],
   "source": [
    "start = time.time()\n",
    "for i in range(nrows):\n",
    "    new_row = np.random.rand(1,ncols)\n",
    "    np_res[i] = new_row\n",
    "print(f'Execution time with reserved ndarray: {time.time() - start}')\n",
    "print(np_res.shape)"
   ]
  },
  {
   "cell_type": "markdown",
   "metadata": {},
   "source": [
    "If you do feel the need to append to a data structure as an algorithm progresses without defininf a <code>numpy</code> array to reserve space, tthen appending to a Python list is much faster and the list can be converted to a <code>numpy</code> array when the data accumulation is complete."
   ]
  },
  {
   "cell_type": "code",
   "execution_count": 10,
   "metadata": {},
   "outputs": [
    {
     "name": "stdout",
     "output_type": "stream",
     "text": [
      "Execution time with reserved ndarray: 0.013594865798950195\n",
      "(9999, 1, 10)\n"
     ]
    }
   ],
   "source": [
    "start = time.time()\n",
    "np_arr = []\n",
    "for i in range(nrows-1):\n",
    "    np_arr.append(np.random.rand(1,ncols)) \n",
    "print(f'Execution time with reserved ndarray: {time.time() - start}')\n",
    "np_arr = np.array(np_arr)\n",
    "print(np_arr.shape)"
   ]
  },
  {
   "cell_type": "markdown",
   "metadata": {},
   "source": [
    "## Application: The Cell Tower Problem"
   ]
  },
  {
   "cell_type": "code",
   "execution_count": 1,
   "metadata": {},
   "outputs": [],
   "source": [
    "import random\n",
    "\n",
    "def setup():\n",
    "    prob_size = 100000\n",
    "    data = [random.random() for _ in range(prob_size)]\n",
    "    budget = 5.0\n",
    "    return data, budget"
   ]
  },
  {
   "cell_type": "markdown",
   "metadata": {},
   "source": [
    "### Python List with Deletion of Used Elements"
   ]
  },
  {
   "cell_type": "code",
   "execution_count": 2,
   "metadata": {},
   "outputs": [
    {
     "name": "stdout",
     "output_type": "stream",
     "text": [
      "Investment: 4.999996959970765 \n",
      "Execution time: 0.890256404876709 seconds \n",
      "Towers selected: [0.6397090690421973, 0.8932899834495232, 0.140097477165253, 0.3077801740402405, 0.8228421949137854, 0.24261227862442758, 0.33492161664540565, 0.6478410003391296, 0.7146420199370555, 0.25101359662863076, 0.004755420725151782, 7.920551800111308e-05, 0.0002899865395430412, 3.786991647292126e-05, 8.506648594852617e-05]\n"
     ]
    }
   ],
   "source": [
    "import random\n",
    "import time\n",
    "\n",
    "towers, budget = setup()\n",
    "time_start = time.time()\n",
    "\n",
    "towers_to_pick = []\n",
    "\n",
    "while sum(towers_to_pick) < budget and len(towers) > 0:\n",
    "    if sum(towers_to_pick) + towers[0] <= budget:\n",
    "        towers_to_pick.append(towers.pop(0))\n",
    "    else:\n",
    "        _ = towers.pop(0)\n",
    "\n",
    "print(f'Investment: {sum(towers_to_pick)} \\nExecution time: {time.time() - time_start} seconds \\nTowers selected: {towers_to_pick}')"
   ]
  },
  {
   "cell_type": "code",
   "execution_count": 3,
   "metadata": {},
   "outputs": [
    {
     "name": "stdout",
     "output_type": "stream",
     "text": [
      "Investment: 4.999991440831966 \n",
      "Execution time: 0.8942358493804932 seconds \n",
      "Towers selected: [0.01862817159471508, 0.09944490307912379, 0.7544640799811307, 0.36212089786555113, 0.364531412711818, 0.3965647356169755, 0.19303006143570667, 0.15199291399533355, 0.5717185193827808, 0.32195897362136794, 0.6602552027746296, 0.4195904713964931, 0.12090964670195792, 0.38927413099940433, 0.1618943545780912, 0.002873741581200684, 0.00015798914796205654, 0.006936029802124377, 0.0027240778532309218, 4.659804955842173e-05, 0.0006625852056239001, 4.31404530256696e-05, 0.0001651556786068653, 3.647325552580405e-06]\n"
     ]
    }
   ],
   "source": [
    "import random\n",
    "import time\n",
    "\n",
    "towers, budget = setup()\n",
    "time_start = time.time()\n",
    "\n",
    "towers_to_pick = []\n",
    "while sum(towers_to_pick) < budget and len(towers) > 0:\n",
    "    if sum(towers_to_pick) + towers[0] <= budget:\n",
    "        towers_to_pick.append(towers[0])\n",
    "    del towers[0]\n",
    "\n",
    "print(f'Investment: {sum(towers_to_pick)} \\nExecution time: {time.time() - time_start} seconds \\nTowers selected: {towers_to_pick}')"
   ]
  },
  {
   "cell_type": "markdown",
   "metadata": {},
   "source": [
    "### With a <code>for</code> Loop"
   ]
  },
  {
   "cell_type": "code",
   "execution_count": 4,
   "metadata": {},
   "outputs": [
    {
     "name": "stdout",
     "output_type": "stream",
     "text": [
      "Investment: 4.9999989412663535 \n",
      "Execution time: 0.02350616455078125 seconds \n",
      "Towers selected: [0.5927846372307863, 0.49080806473652505, 0.48294085639318096, 0.6480193601322259, 0.5785812028229532, 0.30216308816048465, 0.20879061742920568, 0.9174081388705451, 0.7562100725766908, 0.011679830999509533, 0.002832929332382106, 0.00763220519923169, 2.949279888819767e-05, 0.00011844458374432598]\n"
     ]
    }
   ],
   "source": [
    "import random\n",
    "import time\n",
    "\n",
    "towers, budget = setup()\n",
    "time_start = time.time()\n",
    "\n",
    "towers_to_pick = []\n",
    "\n",
    "for t in towers:\n",
    "    if sum(towers_to_pick) + t <= budget:\n",
    "        towers_to_pick.append(t)\n",
    "\n",
    "print(f'Investment: {sum(towers_to_pick)} \\nExecution time: {time.time() - time_start} seconds \\nTowers selected: {towers_to_pick}')"
   ]
  },
  {
   "cell_type": "markdown",
   "metadata": {},
   "source": [
    "### <code>numpy</code> with Slices to Eliminate Used Elements"
   ]
  },
  {
   "cell_type": "code",
   "execution_count": 5,
   "metadata": {},
   "outputs": [
    {
     "name": "stdout",
     "output_type": "stream",
     "text": [
      "Investment: 4.999989012490344 \n",
      "Execution time: 0.43709707260131836 seconds \n",
      "Towers selected: [2.89758975e-01 8.52389109e-01 6.90416519e-01 6.90291974e-01\n",
      " 9.73411079e-01 4.14303710e-01 1.87098549e-02 7.38652903e-01\n",
      " 2.47555832e-01 1.41671591e-02 3.44325137e-02 2.00293814e-02\n",
      " 1.58200725e-02 4.99310424e-05]\n"
     ]
    }
   ],
   "source": [
    "import numpy as np\n",
    "\n",
    "towers, budget = setup()\n",
    "towers = np.array(towers)\n",
    "time_start = time.time()\n",
    "\n",
    "towers_to_pick = np.array([])\n",
    "\n",
    "while towers_to_pick.sum() < budget and towers.shape[0] > 0:\n",
    "    if towers_to_pick.sum() + towers[0] <= budget:\n",
    "        towers_to_pick = np.append(towers_to_pick, towers[0])\n",
    "    towers = towers[1:]\n",
    "\n",
    "print(f'Investment: {sum(towers_to_pick)} \\nExecution time: {time.time() - time_start} seconds \\nTowers selected: {towers_to_pick}')"
   ]
  },
  {
   "cell_type": "markdown",
   "metadata": {},
   "source": [
    "### Efficient <code>numpy</code> with Reserved Memory for Array\n",
    "\n",
    "Notice also that the <code>numpy</code> array <code>sum()</code> function is replaced."
   ]
  },
  {
   "cell_type": "code",
   "execution_count": 9,
   "metadata": {},
   "outputs": [
    {
     "name": "stdout",
     "output_type": "stream",
     "text": [
      "Investment: 4.999996521022695 \n",
      "Execution time: 0.03643393516540527 seconds \n",
      "Towers selected: [5.8088803e-01 6.0085980e-03 5.0092101e-01 9.4081634e-01 9.7277844e-01\n",
      " 2.5623366e-01 8.4856910e-01 2.0202537e-01 3.4030995e-01 3.1571701e-01\n",
      " 1.7443914e-02 2.3598270e-03 1.1648559e-02 3.9108428e-03 2.8377521e-04\n",
      " 8.2092978e-05]\n"
     ]
    }
   ],
   "source": [
    "import numpy as np\n",
    "\n",
    "towers, budget = setup()\n",
    "towers = np.array(towers)\n",
    "time_start = time.time()\n",
    "\n",
    "''' Reserve space for solution of maximum possible size '''\n",
    "towers_to_pick = np.zeros(towers.shape[0], dtype=np.float32)  # do not use np.empty()!!!\n",
    "\n",
    "j = 0  # counter for number of elements packed and the index of the next element to be packed\n",
    "for vol in towers:\n",
    "    if vol <= budget:\n",
    "        towers_to_pick[j] = vol\n",
    "        budget -= vol\n",
    "        j += 1\n",
    "\n",
    "print(f'Investment: {sum(towers_to_pick)} \\nExecution time: {time.time() - time_start} seconds \\nTowers selected: {towers_to_pick[:j]}')"
   ]
  },
  {
   "cell_type": "code",
   "execution_count": null,
   "metadata": {},
   "outputs": [],
   "source": []
  },
  {
   "cell_type": "markdown",
   "metadata": {},
   "source": [
    "## Avoid Loops with <code>numpy</code> and Elementwise Calculations (Vectorization)\n",
    "\n",
    "As we have discussed, your code slows dramatically with each nested <code>for</code> loop you add.  You can avoid using loops with <code>numpy</code> vectorization.  While the loops are eliminated from your Python code, a looping mechanism is still executed behind the scenes in <code>numpy</code>, although <code>numpy</code> does this operation much more quickly than if it was done with Python code."
   ]
  },
  {
   "cell_type": "markdown",
   "metadata": {},
   "source": [
    "### The Traditional Python Approach to Array Addition with Loops"
   ]
  },
  {
   "cell_type": "code",
   "execution_count": null,
   "metadata": {},
   "outputs": [],
   "source": [
    "x = [[0,1,2],[3,4,5],[6,7,8]]\n",
    "y = [[1,1,1],[1,1,1],[1,1,1]]\n",
    "z = [[0,0,0],[0,0,0],[0,0,0]]\n",
    "\n",
    "for i in range(len(x)):\n",
    "    for j in range(len(x[0])):\n",
    "        z[i][j] = x[i][j] + y[i][j]\n",
    "print(z)"
   ]
  },
  {
   "cell_type": "markdown",
   "metadata": {},
   "source": [
    "### Array Addition With <code>numpy</code>, Without loops"
   ]
  },
  {
   "cell_type": "code",
   "execution_count": null,
   "metadata": {},
   "outputs": [],
   "source": [
    "x = np.array([[0,1,2],[3,4,5],[6,7,8]])\n",
    "y = np.array([[1,1,1],[1,1,1],[1,1,1]])\n",
    "\n",
    "z = x + y\n",
    "print(z)"
   ]
  },
  {
   "cell_type": "markdown",
   "metadata": {},
   "source": [
    "### A Bigger Addition Problem"
   ]
  },
  {
   "cell_type": "code",
   "execution_count": 17,
   "metadata": {},
   "outputs": [
    {
     "name": "stdout",
     "output_type": "stream",
     "text": [
      "for loop execution time: 0.2594606876373291\n",
      "numpy execution time: 0.0\n"
     ]
    }
   ],
   "source": [
    "import random\n",
    "prob_size = 1000\n",
    "x = [[random.randint(0,10) for _ in range(prob_size)] for _ in range(prob_size)]\n",
    "y = [[random.randint(0,10) for _ in range(prob_size)] for _ in range(prob_size)]\n",
    "z = [[0 for _ in range(prob_size)] for _ in range(prob_size)]\n",
    "\n",
    "time_start = time.time()\n",
    "for i in range(len(x)):\n",
    "    for j in range(len(x[0])):\n",
    "        z[i][j] = x[i][j] + y[i][j]\n",
    "print(f'for loop execution time: {time.time() - time_start}')\n",
    "\n",
    "x = np.random.randint((prob_size,prob_size))\n",
    "y = np.random.randint((prob_size,prob_size))\n",
    "\n",
    "time_start = time.time()\n",
    "z = x + y\n",
    "print(f'numpy execution time: {time.time() - time_start}')"
   ]
  },
  {
   "cell_type": "markdown",
   "metadata": {},
   "source": [
    "## Selecting Elements from <code>numpy</code> Arrays \n",
    "\n",
    "- <span style=\"font-family:'Courier New'\">np.min()</span>\n",
    "- <span style=\"font-family:'Courier New'\">np.max()</span>\n",
    "- <span style=\"font-family:'Courier New'\">np.argmin()</span>\n",
    "- <span style=\"font-family:'Courier New'\">np.argmax()</span>\n",
    "\n",
    "Algorithms frequently require that either the minimum or maximum elements be selected from an array/list or, in a more complex manner, the best element fitting particular criteria is sought."
   ]
  },
  {
   "cell_type": "markdown",
   "metadata": {},
   "source": [
    "One one just find the least or greatest array elements using the <code>np.min()</code> or <code>np.max()</code> methods, respectively."
   ]
  },
  {
   "cell_type": "code",
   "execution_count": null,
   "metadata": {},
   "outputs": [],
   "source": [
    "x = np.random.randint(0,10,(10,))"
   ]
  },
  {
   "cell_type": "code",
   "execution_count": 18,
   "metadata": {},
   "outputs": [
    {
     "name": "stdout",
     "output_type": "stream",
     "text": [
      "[9 7 5 1 9 8 3 9 0 9]\n",
      "0 0\n",
      "9 9\n"
     ]
    }
   ],
   "source": [
    "print(x)\n",
    "print(x.min(), np.min(x))\n",
    "print(x.max(), np.max(x))"
   ]
  },
  {
   "cell_type": "markdown",
   "metadata": {},
   "source": [
    "One might also find the leat and greatest elements using the <code>np.argmin()</code> or <code>np.argmax()</code> methods, respectively, although this requires a second statement to actually retrieve the element values."
   ]
  },
  {
   "cell_type": "code",
   "execution_count": 19,
   "metadata": {},
   "outputs": [
    {
     "name": "stdout",
     "output_type": "stream",
     "text": [
      "[9 7 5 1 9 8 3 9 0 9]\n",
      "8 0\n",
      "0 9\n"
     ]
    }
   ],
   "source": [
    "idx_min = x.argmin()\n",
    "idx_max = x.argmax()\n",
    "print(x)\n",
    "print(idx_min, x[idx_min])\n",
    "print(idx_max, x[idx_max])"
   ]
  },
  {
   "cell_type": "markdown",
   "metadata": {},
   "source": [
    "Despite needing a second statement to obtain a value, knowing the index of a minimum/maximum is quite useful when one must select multiple elements from an array and keep track of which elements have been selected so that they are not selected again.  This is the focus of a subsequent section in this Jupyter notebook."
   ]
  },
  {
   "cell_type": "markdown",
   "metadata": {},
   "source": [
    "The <code>np.argsort()</code> method can be useful to find the element from a list that, rather than being the least or greatest element, is the largest (smallest) item smaller (larger) than some upper (lower)limit."
   ]
  },
  {
   "cell_type": "code",
   "execution_count": 27,
   "metadata": {},
   "outputs": [
    {
     "name": "stdout",
     "output_type": "stream",
     "text": [
      "x: [9 7 5 1 9 8 3 9 0 9]\n",
      "idx_sort: [8 3 6 2 1 5 0 4 7 9]\n",
      "x[idx_sort]: [0 1 3 5 7 8 9 9 9 9]\n"
     ]
    }
   ],
   "source": [
    "idx_sort = np.argsort(x)\n",
    "print(f'x: {x}')\n",
    "print(f'idx_sort: {idx_sort}')\n",
    "print(f'x[idx_sort]: {x[idx_sort]}')"
   ]
  },
  {
   "cell_type": "code",
   "execution_count": 25,
   "metadata": {},
   "outputs": [
    {
     "name": "stdout",
     "output_type": "stream",
     "text": [
      "2 6 3\n"
     ]
    }
   ],
   "source": [
    "# Find the largest element less than 5\n",
    "i = -1\n",
    "while x[idx_sort[i+1]] < 5 and i+1 < x.shape[0]:\n",
    "    i += 1\n",
    "print(i, idx_sort[i], x[idx_sort[i]])"
   ]
  },
  {
   "cell_type": "markdown",
   "metadata": {},
   "source": [
    "Recall one method for sorting in descending order."
   ]
  },
  {
   "cell_type": "code",
   "execution_count": 28,
   "metadata": {},
   "outputs": [
    {
     "name": "stdout",
     "output_type": "stream",
     "text": [
      "x: [9 7 5 1 9 8 3 9 0 9]\n",
      "idx_sort: [9 7 4 0 5 1 2 6 3 8]\n",
      "x[idx_sort]: [9 9 9 9 8 7 5 3 1 0]\n"
     ]
    }
   ],
   "source": [
    "idx_sort = np.argsort(x)\n",
    "idx_sort = np.flip(idx_sort)\n",
    "print(f'x: {x}')\n",
    "print(f'idx_sort: {idx_sort}')\n",
    "print(f'x[idx_sort]: {x[idx_sort]}')"
   ]
  },
  {
   "cell_type": "markdown",
   "metadata": {},
   "source": [
    "This is another method, although it is perhaps less intuitive."
   ]
  },
  {
   "cell_type": "code",
   "execution_count": 29,
   "metadata": {},
   "outputs": [
    {
     "name": "stdout",
     "output_type": "stream",
     "text": [
      "x: [9 7 5 1 9 8 3 9 0 9]\n",
      "idx_sort: [9 7 4 0 5 1 2 6 3 8]\n",
      "x[idx_sort]: [9 9 9 9 8 7 5 3 1 0]\n"
     ]
    }
   ],
   "source": [
    "idx_sort = np.argsort(x)\n",
    "idx_sort = idx_sort[::-1]\n",
    "print(f'x: {x}')\n",
    "print(f'idx_sort: {idx_sort}')\n",
    "print(f'x[idx_sort]: {x[idx_sort]}')"
   ]
  },
  {
   "cell_type": "markdown",
   "metadata": {},
   "source": [
    "## Boolean Masks\n",
    "\n",
    "A Boolean (<code>True</code>/<code>False</code>) array can be used to filter out values from a <code>numpy</code> array.  Array elements whose position coincide with a <code>False</code> are filtered out."
   ]
  },
  {
   "cell_type": "markdown",
   "metadata": {},
   "source": [
    "### Example 1"
   ]
  },
  {
   "cell_type": "code",
   "execution_count": null,
   "metadata": {},
   "outputs": [],
   "source": [
    "size = 5\n",
    "x = np.arange(size)\n",
    "x"
   ]
  },
  {
   "cell_type": "code",
   "execution_count": null,
   "metadata": {},
   "outputs": [],
   "source": [
    "mask_x = np.array([True if i%2==1 else False for i in range(size)])\n",
    "mask_x"
   ]
  },
  {
   "cell_type": "code",
   "execution_count": null,
   "metadata": {},
   "outputs": [],
   "source": [
    "print(x[mask_x])"
   ]
  },
  {
   "cell_type": "markdown",
   "metadata": {},
   "source": [
    "### Example 2"
   ]
  },
  {
   "cell_type": "code",
   "execution_count": null,
   "metadata": {},
   "outputs": [],
   "source": [
    "y = np.arange(size**2).reshape(5,5)\n",
    "y"
   ]
  },
  {
   "cell_type": "code",
   "execution_count": null,
   "metadata": {},
   "outputs": [],
   "source": [
    "mask_y = np.array([True if i%2==1 else False for i in range(size**2)]).reshape(5,5)\n",
    "mask_y"
   ]
  },
  {
   "cell_type": "code",
   "execution_count": null,
   "metadata": {},
   "outputs": [],
   "source": [
    "print(y[mask_y])"
   ]
  },
  {
   "cell_type": "markdown",
   "metadata": {},
   "source": [
    "### Example 3"
   ]
  },
  {
   "cell_type": "code",
   "execution_count": null,
   "metadata": {},
   "outputs": [],
   "source": [
    "z = np.random.random(size = (10,))\n",
    "z"
   ]
  },
  {
   "cell_type": "code",
   "execution_count": null,
   "metadata": {},
   "outputs": [],
   "source": [
    "z >= 0.5"
   ]
  },
  {
   "cell_type": "code",
   "execution_count": null,
   "metadata": {},
   "outputs": [],
   "source": [
    "mask_z = (z >= 0.5)\n",
    "mask_z"
   ]
  },
  {
   "cell_type": "code",
   "execution_count": null,
   "metadata": {},
   "outputs": [],
   "source": [
    "z[mask_z]"
   ]
  },
  {
   "cell_type": "markdown",
   "metadata": {},
   "source": [
    "## Application 2: Traveling Salesperson Problem\n",
    "\n",
    "In this problem, the task is to maintain the original data in its original instantiation without deleting the data pertaining to the destinations already included in the Traveling Salesperson's route."
   ]
  },
  {
   "cell_type": "markdown",
   "metadata": {},
   "source": [
    "### Recall <code>np.argmin()</code>\n",
    "\n",
    "Gets the index (argument) of the minimum value."
   ]
  },
  {
   "cell_type": "code",
   "execution_count": null,
   "metadata": {},
   "outputs": [],
   "source": [
    "z = np.random.random(10)\n",
    "print(z)"
   ]
  },
  {
   "cell_type": "code",
   "execution_count": null,
   "metadata": {},
   "outputs": [],
   "source": [
    "print(f'argmin(z) = {np.argmin(z)}; minimum value = {z[np.argmin(z)]}')"
   ]
  },
  {
   "cell_type": "markdown",
   "metadata": {},
   "source": [
    "### A TSP Greedy Algorithm"
   ]
  },
  {
   "cell_type": "markdown",
   "metadata": {},
   "source": [
    "Randomly select Location 1 to start.\n",
    "\n",
    "- Loop until all locations visited\n",
    "  - For each location, choose the next location to be closest possible next location of locations not yet visited\n",
    "  \n",
    "![AlgoStep1](images/m1.jpg)\n",
    "![AlgoStep2](images/m2.jpg)\n",
    "![AlgoStep3](images/m3.jpg)\n",
    "![AlgoStep4](images/m4.jpg)\n",
    "![AlgoStep5](images/m5.jpg)\n",
    "\n",
    "Route: 1-2-0-4-3-1"
   ]
  },
  {
   "cell_type": "markdown",
   "metadata": {},
   "source": [
    "#### Set up the data"
   ]
  },
  {
   "cell_type": "code",
   "execution_count": null,
   "metadata": {},
   "outputs": [],
   "source": [
    "# create distance matrix\n",
    "nloc = 10\n",
    "dist = np.random.rand(nloc,nloc)\n",
    "dist = np.triu(dist,k=0)\n",
    "for i in range(1,nloc):\n",
    "    for j in range(0, i):\n",
    "        dist[i,j] = dist[j,i]\n",
    "for i in range(nloc):\n",
    "    dist[i,i]=0.0\n",
    "dist"
   ]
  },
  {
   "cell_type": "code",
   "execution_count": null,
   "metadata": {},
   "outputs": [],
   "source": [
    "''' Set up parameters '''\n",
    "nloc = dist.shape[0]                      # number of locations\n",
    "assert dist.shape[0] == dist.shape[1]     # ensure square distance matrix\n",
    "\n",
    "''' Initialize random starting point '''\n",
    "start = np.random.randint(0, nloc-1)      # select random starting location\n",
    "sol = [start]                             # solution route in a list\n",
    "cur_loc = start                           # use cur_loc to indicate current location index\n",
    "\n",
    "''' Establish Boolean mask for the columns: True = column location not visited '''\n",
    "col_mask = np.ones(nloc).astype(np.bool_) # creates array of True\n",
    "col_mask[start] = False                   # cannot choose starting location as\n",
    "                                          # next location\n",
    "\n",
    "''' Create ndarray of column indices '''\n",
    "col_indices = np.arange(nloc)             # create array of indices\n",
    "\n",
    "''' Initial distance of solution '''\n",
    "sol_dist = 0.0                            # initialize distance of solution\n",
    "\n",
    "''' Execute algorithm '''\n",
    "while col_mask.sum() > 0:              # continue if any True values in col_mask\n",
    "    ''' Get index of next location '''\n",
    "    next_loc_ind = np.argmin(dist[cur_loc][col_mask])  # get index of row minimum for\n",
    "                                                       #  remaining locations\n",
    "    next_loc_ind = col_indices[col_mask][next_loc_ind] # find index of minimum relative to original\n",
    "                                                       #   indices (true index of location)\n",
    "    \n",
    "    ''' Update solution and mask '''\n",
    "    sol.append(next_loc_ind)                   # append next location to solution\n",
    "    col_mask[next_loc_ind] = False             # update mask for current location\n",
    "    sol_dist += dist[cur_loc, next_loc_ind]    # update solution distance\n",
    "    cur_loc = next_loc_ind                     # update current location\n",
    "\n",
    "sol.append(start)       # append starting location for round trip\n",
    "sol, sol_dist"
   ]
  },
  {
   "cell_type": "code",
   "execution_count": null,
   "metadata": {},
   "outputs": [],
   "source": []
  }
 ],
 "metadata": {
  "kernelspec": {
   "display_name": "Python 3",
   "language": "python",
   "name": "python3"
  },
  "language_info": {
   "codemirror_mode": {
    "name": "ipython",
    "version": 3
   },
   "file_extension": ".py",
   "mimetype": "text/x-python",
   "name": "python",
   "nbconvert_exporter": "python",
   "pygments_lexer": "ipython3",
   "version": "3.8.5"
  }
 },
 "nbformat": 4,
 "nbformat_minor": 4
}
