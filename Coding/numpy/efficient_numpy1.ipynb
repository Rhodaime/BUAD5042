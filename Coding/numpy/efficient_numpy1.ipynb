{
 "cells": [
  {
   "cell_type": "markdown",
   "metadata": {},
   "source": [
    "# Introduction\n",
    "\n",
    "Writing effective algorithms with Python requires comptence with the <span style=\"font-family:'Courier New'\">numpy</span> package, which enables:\n",
    "- Fast execution\n",
    "- Minimum memory footprint\n",
    "\n",
    "Understanding <span style=\"font-family:'Courier New'\">numpy</span>, its speed, and how to use it more effectively requires a deeper examination of how variables are handled in memory.    \n",
    "\n",
    "This Jupyter notebook covers the essential basis of <span style=\"font-family:'Courier New'\">numpy</span> syntax and methods to get you on your way to writing faster code that uses less memory.  It focuses on basic techniques that are frequently useful in writing algorithms."
   ]
  },
  {
   "cell_type": "markdown",
   "metadata": {},
   "source": [
    "# <span style=\"font-family:'Courier New'\">numpy</span> versus Python Lists\n",
    "\n",
    "The first things to understand is that <code>numpy</code> derives its speed from storing elements of arrays in contiguous blocks of memory and relying on the fast C programming language.\n",
    "\n",
    "![contiguous_memory](images/numpy_vs_list.jpg)"
   ]
  },
  {
   "cell_type": "markdown",
   "metadata": {},
   "source": [
    "# Speed: Establish <span style=\"font-family:'Courier New'\">numpy</span> Variables Once <a class=\"anchor\" id=\"instan_numpy-once\">\n",
    "\n",
    "Any of these actions cause a <code>numpy</code> array to be re-instantiated, which negates the speed advantages you could garner with <code>numpy</code>.  So, avoid these operations:\n",
    "    \n",
    "- Resize a <span style=\"font-family:'Courier New'\">numpy</span> array \n",
    "- Change the data type of a <span style=\"font-family:'Courier New'\">numpy</span> array \n",
    "- Concatenating <span style=\"font-family:'Courier New'\">numpy</span> arrays, <code>np.concatenate()</code>\n",
    "- Appending values to <span style=\"font-family:'Courier New'\">numpy</span> arrays, <code>np.append()</code>\n",
    "- Using <code>numpy np.vstack()</code> or <code>np.hstack()</code>\n",
    "\n",
    "Prevent needing to re-instantiating a <span style=\"font-family:'Courier New'\">numpy ndarray</span>s by determining the required _size_, _shape_, and _data type_ of the array and establish it once.\n",
    "\n",
    "Assume in the example below we are are filling a <span style=\"font-family:'Courier New'\">numpy</span> array with values that we are computing, which I will simulate with random numbers.  We will do this two ways, one with reserving space for the results first, and, the second, appending rows to the original <span style=\"font-family:'Courier New'\">numpy</span> array as we create the values.  The second way causes the numpy array to be reconstructed many times."
   ]
  },
  {
   "cell_type": "code",
   "execution_count": 1,
   "metadata": {},
   "outputs": [],
   "source": [
    "import numpy as np\n",
    "import time"
   ]
  },
  {
   "cell_type": "code",
   "execution_count": 2,
   "metadata": {},
   "outputs": [],
   "source": [
    "nrows = 10000\n",
    "ncols = 10"
   ]
  },
  {
   "cell_type": "markdown",
   "metadata": {},
   "source": [
    "The numpy methods used below recreate the <code>numpy</code> array each time the method is called, which caused execution to be incredibly slow.\n",
    "\n",
    "- <code>np.hstack()</code>\n",
    "- <code>np.vstack()</code>\n",
    "- <code>np.concatenate()</code>\n",
    "- <code>np.append()</code>\n",
    "\n",
    "These methods applied multiple times within a loop is a poor idea: find a better, faster way.\n",
    "\n",
    "Operations with <code>numpy</code> arrays are very fast once the arrays are created, but instantiating a <code>numpy</code> array takes non-neglible time."
   ]
  },
  {
   "cell_type": "code",
   "execution_count": 4,
   "metadata": {},
   "outputs": [
    {
     "name": "stdout",
     "output_type": "stream",
     "text": [
      "Execution time with reserved ndarray: 0.13271784782409668\n",
      "(10000, 10)\n"
     ]
    }
   ],
   "source": [
    "start = time.time()\n",
    "np_arr = np.random.rand(1,ncols)\n",
    "for i in range(nrows-1):\n",
    "    np_arr = np.vstack((np_arr, np.random.rand(1,ncols)))\n",
    "print(f'Execution time with reserved ndarray: {time.time() - start}')\n",
    "print(np_arr.shape)"
   ]
  },
  {
   "cell_type": "code",
   "execution_count": 12,
   "metadata": {},
   "outputs": [
    {
     "name": "stdout",
     "output_type": "stream",
     "text": [
      "Execution time with reserved ndarray: 0.14214706420898438\n",
      "(10, 10000)\n"
     ]
    }
   ],
   "source": [
    "start = time.time()\n",
    "np_arr = np.random.rand(ncols,1)\n",
    "for i in range(nrows-1):\n",
    "    np_arr = np.hstack((np_arr, np.random.rand(ncols,1)))\n",
    "print(f'Execution time with reserved ndarray: {time.time() - start}')\n",
    "print(np_arr.shape)"
   ]
  },
  {
   "cell_type": "code",
   "execution_count": 5,
   "metadata": {},
   "outputs": [
    {
     "name": "stdout",
     "output_type": "stream",
     "text": [
      "Execution time with reserved ndarray: 0.12223935127258301\n",
      "(10000, 10)\n"
     ]
    }
   ],
   "source": [
    "start = time.time()\n",
    "np_arr = np.random.rand(1,ncols)\n",
    "for i in range(nrows-1):\n",
    "    np_arr = np.append(np_arr, np.random.rand(1,ncols), axis=0)\n",
    "print(f'Execution time with reserved ndarray: {time.time() - start}')\n",
    "print(np_arr.shape)"
   ]
  },
  {
   "cell_type": "code",
   "execution_count": 6,
   "metadata": {},
   "outputs": [
    {
     "name": "stdout",
     "output_type": "stream",
     "text": [
      "Execution time with reserved ndarray: 0.11562895774841309\n",
      "(10000, 10)\n"
     ]
    }
   ],
   "source": [
    "start = time.time()\n",
    "np_arr = np.random.rand(1,ncols)\n",
    "for i in range(nrows-1):\n",
    "    np_arr = np.concatenate((np_arr, np.random.rand(1,ncols)))\n",
    "print(f'Execution time with reserved ndarray: {time.time() - start}')\n",
    "print(np_arr.shape)"
   ]
  },
  {
   "cell_type": "markdown",
   "metadata": {},
   "source": [
    "It is much faster to create a numpy array of sufficient size once to reserve space and just replace its values as the algorithm progresses."
   ]
  },
  {
   "cell_type": "code",
   "execution_count": 7,
   "metadata": {},
   "outputs": [],
   "source": [
    "np_res = np.zeros((nrows, ncols))"
   ]
  },
  {
   "cell_type": "code",
   "execution_count": 8,
   "metadata": {},
   "outputs": [
    {
     "name": "stdout",
     "output_type": "stream",
     "text": [
      "Execution time with reserved ndarray: 0.015741586685180664\n",
      "(10000, 10)\n"
     ]
    }
   ],
   "source": [
    "start = time.time()\n",
    "for i in range(nrows):\n",
    "    new_row = np.random.rand(1,ncols)\n",
    "    np_res[i] = new_row\n",
    "print(f'Execution time with reserved ndarray: {time.time() - start}')\n",
    "print(np_res.shape)"
   ]
  },
  {
   "cell_type": "markdown",
   "metadata": {},
   "source": [
    "If you do feel the need to append to a data structure as an algorithm progresses without defining a <code>numpy</code> array to reserve space, then accumulating data initially in a Python list before converting to a <code>numpy</code> is much faster."
   ]
  },
  {
   "cell_type": "code",
   "execution_count": 10,
   "metadata": {},
   "outputs": [
    {
     "name": "stdout",
     "output_type": "stream",
     "text": [
      "Execution time with reserved ndarray: 0.013594865798950195\n",
      "(9999, 1, 10)\n"
     ]
    }
   ],
   "source": [
    "start = time.time()\n",
    "np_arr = []\n",
    "for i in range(nrows-1):\n",
    "    np_arr.append(np.random.rand(1,ncols)) \n",
    "print(f'Execution time with reserved ndarray: {time.time() - start}')\n",
    "np_arr = np.array(np_arr)\n",
    "print(np_arr.shape)"
   ]
  },
  {
   "cell_type": "markdown",
   "metadata": {},
   "source": [
    "## Application: The Cell Tower Problem"
   ]
  },
  {
   "cell_type": "code",
   "execution_count": 3,
   "metadata": {},
   "outputs": [],
   "source": [
    "import random\n",
    "\n",
    "def setup():\n",
    "    prob_size = 100000\n",
    "    data = [random.random() for _ in range(prob_size)]\n",
    "    budget = 5.0\n",
    "    return data, budget"
   ]
  },
  {
   "cell_type": "markdown",
   "metadata": {},
   "source": [
    "### Python List with Deletion of Used Elements"
   ]
  },
  {
   "cell_type": "markdown",
   "metadata": {},
   "source": [
    "### With a <code>for</code> Loop"
   ]
  },
  {
   "cell_type": "code",
   "execution_count": 4,
   "metadata": {},
   "outputs": [
    {
     "name": "stdout",
     "output_type": "stream",
     "text": [
      "Investment: 4.99999431628723 \n",
      "Execution time: 0.03404688835144043 seconds \n",
      "Towers selected: [0.9260635362140286, 0.14366894613766779, 0.07432638083616072, 0.4166398903870302, 0.9485426719217637, 0.48905463043213826, 0.8287739234592457, 0.08041245002898012, 0.6144388138240645, 0.26195785910302427, 0.04827605338732366, 0.13517624811127593, 0.01344953589619613, 0.010675630305102546, 0.0028299071892031735, 0.0006726011731652548, 0.001085913921595072, 0.0035709381623647563, 0.0003390969368196606, 1.7875562511204812e-05, 2.1413297568440015e-05]\n"
     ]
    }
   ],
   "source": [
    "import random\n",
    "import time\n",
    "\n",
    "towers, budget = setup()\n",
    "time_start = time.time()\n",
    "\n",
    "towers_to_pick = []\n",
    "\n",
    "for t in towers:\n",
    "    if sum(towers_to_pick) + t <= budget:\n",
    "        towers_to_pick.append(t)\n",
    "\n",
    "print(f'Investment: {sum(towers_to_pick)} \\nExecution time: {time.time() - time_start} seconds \\nTowers selected: {towers_to_pick}')"
   ]
  },
  {
   "cell_type": "markdown",
   "metadata": {},
   "source": [
    "### With a <code>while</code> Loop"
   ]
  },
  {
   "cell_type": "code",
   "execution_count": 5,
   "metadata": {},
   "outputs": [
    {
     "name": "stdout",
     "output_type": "stream",
     "text": [
      "Investment: 4.9999989170564785 \n",
      "Execution time: 0.661456823348999 seconds \n",
      "Towers selected: [0.8106410485553919, 0.7174504660364858, 0.442659594792551, 0.3230989743545274, 0.11711954562943805, 0.04246052614156792, 0.5199552347896623, 0.9445431073541483, 0.5824113193036726, 0.018972549648881287, 0.09401756683524376, 0.04041010848036641, 0.051436703513252136, 0.06571415314078821, 0.16717186926298422, 0.04693154903099961, 0.007595579818323039, 0.0036825263151525345, 0.002073985632695452, 0.00022921270903497604, 0.0006071861037938442, 0.00012758207669538724, 0.0002485221277603866, 0.00015165205476252996, 9.797820453483208e-05, 0.0001401887767300547, 5.018636703357782e-05]\n"
     ]
    }
   ],
   "source": [
    "import random\n",
    "import time\n",
    "\n",
    "towers, budget = setup()\n",
    "time_start = time.time()\n",
    "\n",
    "towers_to_pick = []\n",
    "\n",
    "while sum(towers_to_pick) < budget and len(towers) > 0:\n",
    "    if sum(towers_to_pick) + towers[0] <= budget:\n",
    "        towers_to_pick.append(towers.pop(0))\n",
    "    else:\n",
    "        _ = towers.pop(0)\n",
    "\n",
    "print(f'Investment: {sum(towers_to_pick)} \\nExecution time: {time.time() - time_start} seconds \\nTowers selected: {towers_to_pick}')"
   ]
  },
  {
   "cell_type": "code",
   "execution_count": 6,
   "metadata": {},
   "outputs": [
    {
     "name": "stdout",
     "output_type": "stream",
     "text": [
      "Investment: 4.999989575574036 \n",
      "Execution time: 0.7659039497375488 seconds \n",
      "Towers selected: [0.438637854801326, 0.2971294162002962, 0.9072132834178651, 0.35362741546089416, 0.28563054096532514, 0.4926932611022279, 0.6908594861948345, 0.4748780114060528, 0.4565977391553562, 0.23323356722756694, 0.0018972935500413124, 0.17624885880123742, 0.06217725399262053, 0.09856985332531754, 0.020353864010952738, 0.009985236902834593, 0.00017254594290494474, 6.731856241948275e-05, 1.677455396142946e-05]\n"
     ]
    }
   ],
   "source": [
    "import random\n",
    "import time\n",
    "\n",
    "towers, budget = setup()\n",
    "time_start = time.time()\n",
    "\n",
    "towers_to_pick = []\n",
    "while sum(towers_to_pick) < budget and len(towers) > 0:\n",
    "    if sum(towers_to_pick) + towers[0] <= budget:\n",
    "        towers_to_pick.append(towers[0])\n",
    "    del towers[0]\n",
    "    # towers = towers[1:]\n",
    "\n",
    "print(f'Investment: {sum(towers_to_pick)} \\nExecution time: {time.time() - time_start} seconds \\nTowers selected: {towers_to_pick}')"
   ]
  },
  {
   "cell_type": "markdown",
   "metadata": {},
   "source": [
    "### <code>numpy</code> with Slices to Delete Used Elements"
   ]
  },
  {
   "cell_type": "code",
   "execution_count": 7,
   "metadata": {},
   "outputs": [
    {
     "name": "stdout",
     "output_type": "stream",
     "text": [
      "Investment: 4.9999840193253915 \n",
      "Execution time: 0.3738241195678711 seconds \n",
      "Towers selected: [9.47046431e-02 9.83881163e-01 3.79981606e-01 2.61839381e-01\n",
      " 5.18176966e-01 4.42555483e-01 5.49239293e-01 9.48243547e-01\n",
      " 3.37406149e-01 2.96430802e-01 5.24496720e-02 3.53301547e-03\n",
      " 7.59467365e-02 2.43019146e-02 3.08101958e-02 9.05554179e-05\n",
      " 1.06461143e-05 1.08015796e-04 1.32658701e-05 1.40742587e-04\n",
      " 5.04534752e-06 5.78288033e-05 4.09460918e-05 1.37176687e-05\n",
      " 2.68746393e-06]\n"
     ]
    }
   ],
   "source": [
    "import numpy as np\n",
    "\n",
    "towers, budget = setup()\n",
    "towers = np.array(towers)\n",
    "time_start = time.time()\n",
    "\n",
    "towers_to_pick = np.array([])\n",
    "\n",
    "while towers_to_pick.sum() < budget and towers.shape[0] > 0:\n",
    "    if towers_to_pick.sum() + towers[0] <= budget:\n",
    "        towers_to_pick = np.append(towers_to_pick, towers[0])\n",
    "    towers = towers[1:]\n",
    "\n",
    "print(f'Investment: {sum(towers_to_pick)} \\nExecution time: {time.time() - time_start} seconds \\nTowers selected: {towers_to_pick}')"
   ]
  },
  {
   "cell_type": "markdown",
   "metadata": {},
   "source": [
    "### Efficient <code>numpy</code> with Reserved Memory for Array\n",
    "\n",
    "Notice also that the <code>numpy</code> array <code>sum()</code> function is replaced."
   ]
  },
  {
   "cell_type": "code",
   "execution_count": 8,
   "metadata": {},
   "outputs": [
    {
     "name": "stdout",
     "output_type": "stream",
     "text": [
      "Investment: 4.999977597165042 \n",
      "Execution time: 0.01894855499267578 seconds \n",
      "Towers selected: [6.7614907e-01 7.2852272e-01 1.9289312e-01 2.7876312e-01 9.0021110e-01\n",
      " 2.9800627e-01 9.4279552e-01 7.4269390e-01 5.6808151e-02 1.2176196e-01\n",
      " 5.5007875e-02 5.0451737e-03 1.2046301e-03 1.0442288e-04 5.0826120e-06\n",
      " 5.3700592e-06 1.2918187e-07]\n"
     ]
    }
   ],
   "source": [
    "import numpy as np\n",
    "\n",
    "towers, budget = setup()\n",
    "towers = np.array(towers)\n",
    "time_start = time.time()\n",
    "\n",
    "''' Reserve space for solution of maximum possible size '''\n",
    "towers_to_pick = np.zeros(towers.shape[0], dtype=np.float32)  # do not use np.empty()!!!\n",
    "\n",
    "j = 0  # counter for number of elements packed and the index of the next element to be packed\n",
    "for vol in towers:\n",
    "    if vol <= budget:\n",
    "        towers_to_pick[j] = vol\n",
    "        budget -= vol\n",
    "        j += 1\n",
    "\n",
    "print(f'Investment: {sum(towers_to_pick)} \\nExecution time: {time.time() - time_start} seconds \\nTowers selected: {towers_to_pick[:j]}')"
   ]
  },
  {
   "cell_type": "markdown",
   "metadata": {},
   "source": [
    "## Avoid Loops with <code>numpy</code> and Elementwise Calculations (Vectorization)\n",
    "\n",
    "As we have discussed, your code slows dramatically with each nested <code>for</code> loop you add.  You can avoid using loops with <code>numpy</code> vectorization.  While the loops are eliminated from your Python code, a looping mechanism is still executed behind the scenes in <code>numpy</code>, although <code>numpy</code> does this operation much more quickly than if it was done with Python code."
   ]
  },
  {
   "cell_type": "markdown",
   "metadata": {},
   "source": [
    "### The Traditional Python Approach to Array Addition with Loops"
   ]
  },
  {
   "cell_type": "code",
   "execution_count": null,
   "metadata": {},
   "outputs": [],
   "source": [
    "x = [[0,1,2],[3,4,5],[6,7,8]]\n",
    "y = [[1,1,1],[1,1,1],[1,1,1]]\n",
    "z = [[0,0,0],[0,0,0],[0,0,0]]\n",
    "\n",
    "for i in range(len(x)):\n",
    "    for j in range(len(x[0])):\n",
    "        z[i][j] = x[i][j] + y[i][j]\n",
    "print(z)"
   ]
  },
  {
   "cell_type": "markdown",
   "metadata": {},
   "source": [
    "### Array Addition With <code>numpy</code>, Without loops"
   ]
  },
  {
   "cell_type": "code",
   "execution_count": null,
   "metadata": {},
   "outputs": [],
   "source": [
    "x = np.array([[0,1,2],[3,4,5],[6,7,8]])\n",
    "y = np.array([[1,1,1],[1,1,1],[1,1,1]])\n",
    "\n",
    "z = x + y\n",
    "print(z)"
   ]
  },
  {
   "cell_type": "markdown",
   "metadata": {},
   "source": [
    "### A Bigger Addition Problem"
   ]
  },
  {
   "cell_type": "code",
   "execution_count": 17,
   "metadata": {},
   "outputs": [
    {
     "name": "stdout",
     "output_type": "stream",
     "text": [
      "for loop execution time: 0.2594606876373291\n",
      "numpy execution time: 0.0\n"
     ]
    }
   ],
   "source": [
    "import random\n",
    "prob_size = 1000\n",
    "x = [[random.randint(0,10) for _ in range(prob_size)] for _ in range(prob_size)]\n",
    "y = [[random.randint(0,10) for _ in range(prob_size)] for _ in range(prob_size)]\n",
    "z = [[0 for _ in range(prob_size)] for _ in range(prob_size)]\n",
    "\n",
    "time_start = time.time()\n",
    "for i in range(len(x)):\n",
    "    for j in range(len(x[0])):\n",
    "        z[i][j] = x[i][j] + y[i][j]\n",
    "print(f'for loop execution time: {time.time() - time_start}')\n",
    "\n",
    "x = np.random.randint((prob_size,prob_size))\n",
    "y = np.random.randint((prob_size,prob_size))\n",
    "\n",
    "time_start = time.time()\n",
    "z = x + y\n",
    "print(f'numpy execution time: {time.time() - time_start}')"
   ]
  },
  {
   "cell_type": "markdown",
   "metadata": {},
   "source": [
    "## Selecting Elements from <code>numpy</code> Arrays \n",
    "\n",
    "Before we continue with the topic of writing faster code, let's refresh or learn about some very useful <code>numpy</code> methods.\n",
    "\n",
    "- <span style=\"font-family:'Courier New'\">np.min()</span>\n",
    "- <span style=\"font-family:'Courier New'\">np.max()</span>\n",
    "- <span style=\"font-family:'Courier New'\">np.argmin()</span>\n",
    "- <span style=\"font-family:'Courier New'\">np.argmax()</span>\n",
    "\n",
    "Algorithms frequently require that either the minimum or maximum elements be selected from an array/list or, in a more complex manner, the best element fitting particular criteria is sought."
   ]
  },
  {
   "cell_type": "markdown",
   "metadata": {},
   "source": [
    "One one just find the least or greatest array elements using the <code>np.min()</code> or <code>np.max()</code> methods, respectively."
   ]
  },
  {
   "cell_type": "code",
   "execution_count": null,
   "metadata": {},
   "outputs": [],
   "source": [
    "x = np.random.randint(0,10,(10,))"
   ]
  },
  {
   "cell_type": "code",
   "execution_count": 18,
   "metadata": {},
   "outputs": [
    {
     "name": "stdout",
     "output_type": "stream",
     "text": [
      "[9 7 5 1 9 8 3 9 0 9]\n",
      "0 0\n",
      "9 9\n"
     ]
    }
   ],
   "source": [
    "print(x)\n",
    "print(x.min(), np.min(x))\n",
    "print(x.max(), np.max(x))"
   ]
  },
  {
   "cell_type": "markdown",
   "metadata": {},
   "source": [
    "One might also find the leat and greatest elements using the <code>np.argmin()</code> or <code>np.argmax()</code> methods, respectively, although this requires a second statement to actually retrieve the element values."
   ]
  },
  {
   "cell_type": "code",
   "execution_count": 19,
   "metadata": {},
   "outputs": [
    {
     "name": "stdout",
     "output_type": "stream",
     "text": [
      "[9 7 5 1 9 8 3 9 0 9]\n",
      "8 0\n",
      "0 9\n"
     ]
    }
   ],
   "source": [
    "idx_min = x.argmin()\n",
    "idx_max = x.argmax()\n",
    "print(x)\n",
    "print(idx_min, x[idx_min])\n",
    "print(idx_max, x[idx_max])"
   ]
  },
  {
   "cell_type": "markdown",
   "metadata": {},
   "source": [
    "Despite needing a second statement to obtain a value, knowing the index of a minimum/maximum is quite useful when one must select multiple elements from an array and keep track of which elements have been selected so that they are not selected again.  This is the focus of a subsequent section in this Jupyter notebook."
   ]
  },
  {
   "cell_type": "markdown",
   "metadata": {},
   "source": [
    "The <code>np.argsort()</code> method can be useful to find the element from a list that, rather than being the least or greatest element, is the largest (smallest) item smaller (larger) than some upper (lower)limit."
   ]
  },
  {
   "cell_type": "code",
   "execution_count": 27,
   "metadata": {},
   "outputs": [
    {
     "name": "stdout",
     "output_type": "stream",
     "text": [
      "x: [9 7 5 1 9 8 3 9 0 9]\n",
      "idx_sort: [8 3 6 2 1 5 0 4 7 9]\n",
      "x[idx_sort]: [0 1 3 5 7 8 9 9 9 9]\n"
     ]
    }
   ],
   "source": [
    "idx_sort = np.argsort(x)\n",
    "print(f'x: {x}')\n",
    "print(f'idx_sort: {idx_sort}')\n",
    "print(f'x[idx_sort]: {x[idx_sort]}')"
   ]
  },
  {
   "cell_type": "code",
   "execution_count": 25,
   "metadata": {},
   "outputs": [
    {
     "name": "stdout",
     "output_type": "stream",
     "text": [
      "2 6 3\n"
     ]
    }
   ],
   "source": [
    "# Find the largest element less than 5\n",
    "i = -1\n",
    "while x[idx_sort[i+1]] < 5 and i+1 < x.shape[0]:\n",
    "    i += 1\n",
    "print(i, idx_sort[i], x[idx_sort[i]])"
   ]
  },
  {
   "cell_type": "markdown",
   "metadata": {},
   "source": [
    "Recall one method for sorting in descending order."
   ]
  },
  {
   "cell_type": "code",
   "execution_count": 28,
   "metadata": {},
   "outputs": [
    {
     "name": "stdout",
     "output_type": "stream",
     "text": [
      "x: [9 7 5 1 9 8 3 9 0 9]\n",
      "idx_sort: [9 7 4 0 5 1 2 6 3 8]\n",
      "x[idx_sort]: [9 9 9 9 8 7 5 3 1 0]\n"
     ]
    }
   ],
   "source": [
    "idx_sort = np.argsort(x)\n",
    "idx_sort = np.flip(idx_sort)\n",
    "print(f'x: {x}')\n",
    "print(f'idx_sort: {idx_sort}')\n",
    "print(f'x[idx_sort]: {x[idx_sort]}')"
   ]
  },
  {
   "cell_type": "markdown",
   "metadata": {},
   "source": [
    "This is another method, although it is perhaps less intuitive."
   ]
  },
  {
   "cell_type": "code",
   "execution_count": 29,
   "metadata": {},
   "outputs": [
    {
     "name": "stdout",
     "output_type": "stream",
     "text": [
      "x: [9 7 5 1 9 8 3 9 0 9]\n",
      "idx_sort: [9 7 4 0 5 1 2 6 3 8]\n",
      "x[idx_sort]: [9 9 9 9 8 7 5 3 1 0]\n"
     ]
    }
   ],
   "source": [
    "idx_sort = np.argsort(x)\n",
    "idx_sort = idx_sort[::-1]\n",
    "print(f'x: {x}')\n",
    "print(f'idx_sort: {idx_sort}')\n",
    "print(f'x[idx_sort]: {x[idx_sort]}')"
   ]
  },
  {
   "cell_type": "markdown",
   "metadata": {},
   "source": [
    "## Boolean Masks\n",
    "\n",
    "A Boolean (<code>True</code>/<code>False</code>) array can be used to filter out values from a <code>numpy</code> array.  Array elements whose position coincide with a <code>False</code> are filtered out."
   ]
  },
  {
   "cell_type": "markdown",
   "metadata": {},
   "source": [
    "### Example 1"
   ]
  },
  {
   "cell_type": "code",
   "execution_count": null,
   "metadata": {},
   "outputs": [],
   "source": [
    "size = 5\n",
    "x = np.arange(size)\n",
    "x"
   ]
  },
  {
   "cell_type": "code",
   "execution_count": null,
   "metadata": {},
   "outputs": [],
   "source": [
    "mask_x = np.array([True if i%2==1 else False for i in range(size)])\n",
    "mask_x"
   ]
  },
  {
   "cell_type": "code",
   "execution_count": null,
   "metadata": {},
   "outputs": [],
   "source": [
    "print(x[mask_x])"
   ]
  },
  {
   "cell_type": "markdown",
   "metadata": {},
   "source": [
    "### Example 2"
   ]
  },
  {
   "cell_type": "code",
   "execution_count": null,
   "metadata": {},
   "outputs": [],
   "source": [
    "y = np.arange(size**2).reshape(5,5)\n",
    "y"
   ]
  },
  {
   "cell_type": "code",
   "execution_count": null,
   "metadata": {},
   "outputs": [],
   "source": [
    "mask_y = np.array([True if i%2==1 else False for i in range(size**2)]).reshape(5,5)\n",
    "mask_y"
   ]
  },
  {
   "cell_type": "code",
   "execution_count": null,
   "metadata": {},
   "outputs": [],
   "source": [
    "print(y[mask_y])"
   ]
  },
  {
   "cell_type": "markdown",
   "metadata": {},
   "source": [
    "### Example 3"
   ]
  },
  {
   "cell_type": "code",
   "execution_count": null,
   "metadata": {},
   "outputs": [],
   "source": [
    "z = np.random.random(size = (10,))\n",
    "z"
   ]
  },
  {
   "cell_type": "code",
   "execution_count": null,
   "metadata": {},
   "outputs": [],
   "source": [
    "z >= 0.5"
   ]
  },
  {
   "cell_type": "code",
   "execution_count": null,
   "metadata": {},
   "outputs": [],
   "source": [
    "mask_z = (z >= 0.5)\n",
    "mask_z"
   ]
  },
  {
   "cell_type": "code",
   "execution_count": null,
   "metadata": {},
   "outputs": [],
   "source": [
    "z[mask_z]"
   ]
  },
  {
   "cell_type": "markdown",
   "metadata": {},
   "source": [
    "## Application 2: Traveling Salesperson Problem\n",
    "\n",
    "In this problem, the task is to maintain the original data in its original instantiation without deleting the data pertaining to the destinations already included in the Traveling Salesperson's route."
   ]
  },
  {
   "cell_type": "markdown",
   "metadata": {},
   "source": [
    "### Recall <code>np.argmin()</code>\n",
    "\n",
    "Gets the index (argument) of the minimum value."
   ]
  },
  {
   "cell_type": "code",
   "execution_count": null,
   "metadata": {},
   "outputs": [],
   "source": [
    "z = np.random.random(10)\n",
    "print(z)"
   ]
  },
  {
   "cell_type": "code",
   "execution_count": null,
   "metadata": {},
   "outputs": [],
   "source": [
    "print(f'argmin(z) = {np.argmin(z)}; minimum value = {z[np.argmin(z)]}')"
   ]
  },
  {
   "cell_type": "markdown",
   "metadata": {},
   "source": [
    "### A TSP Greedy Algorithm"
   ]
  },
  {
   "cell_type": "markdown",
   "metadata": {},
   "source": [
    "Randomly select Location 1 to start.\n",
    "\n",
    "- Loop until all locations visited\n",
    "  - For each location, choose the next location to be closest possible next location of locations not yet visited\n",
    "  \n",
    "![AlgoStep1](images/m1.jpg)\n",
    "![AlgoStep2](images/m2.jpg)\n",
    "![AlgoStep3](images/m3.jpg)\n",
    "![AlgoStep4](images/m4.jpg)\n",
    "![AlgoStep5](images/m5.jpg)\n",
    "\n",
    "Route: 1-2-0-4-3-1"
   ]
  },
  {
   "cell_type": "markdown",
   "metadata": {},
   "source": [
    "#### Set up the data"
   ]
  },
  {
   "cell_type": "code",
   "execution_count": null,
   "metadata": {},
   "outputs": [],
   "source": [
    "# create distance matrix\n",
    "nloc = 10\n",
    "dist = np.random.rand(nloc,nloc)\n",
    "dist = np.triu(dist,k=0)\n",
    "for i in range(1,nloc):\n",
    "    for j in range(0, i):\n",
    "        dist[i,j] = dist[j,i]\n",
    "for i in range(nloc):\n",
    "    dist[i,i]=0.0\n",
    "dist"
   ]
  },
  {
   "cell_type": "code",
   "execution_count": null,
   "metadata": {},
   "outputs": [],
   "source": [
    "''' Set up parameters '''\n",
    "nloc = dist.shape[0]                      # number of locations\n",
    "assert dist.shape[0] == dist.shape[1]     # ensure square distance matrix\n",
    "\n",
    "''' Initialize random starting point '''\n",
    "start = np.random.randint(0, nloc-1)      # select random starting location\n",
    "sol = [start]                             # solution route in a list\n",
    "cur_loc = start                           # use cur_loc to indicate current location index\n",
    "\n",
    "''' Establish Boolean mask for the columns: True = column location not visited '''\n",
    "col_mask = np.ones(nloc).astype(np.bool_) # creates array of True\n",
    "col_mask[start] = False                   # cannot choose starting location as\n",
    "                                          # next location\n",
    "\n",
    "''' Create ndarray of column indices '''\n",
    "col_indices = np.arange(nloc)             # create array of indices\n",
    "\n",
    "''' Initial distance of solution '''\n",
    "sol_dist = 0.0                            # initialize distance of solution\n",
    "\n",
    "''' Execute algorithm '''\n",
    "while col_mask.sum() > 0:              # continue if any True values in col_mask\n",
    "    ''' Get index of next location '''\n",
    "    next_loc_ind = np.argmin(dist[cur_loc][col_mask])  # get index of row minimum for\n",
    "                                                       #  remaining locations\n",
    "    next_loc_ind = col_indices[col_mask][next_loc_ind] # find index of minimum relative to original\n",
    "                                                       #   indices (true index of location)\n",
    "    \n",
    "    ''' Update solution and mask '''\n",
    "    sol.append(next_loc_ind)                   # append next location to solution\n",
    "    col_mask[next_loc_ind] = False             # update mask for current location\n",
    "    sol_dist += dist[cur_loc, next_loc_ind]    # update solution distance\n",
    "    cur_loc = next_loc_ind                     # update current location\n",
    "\n",
    "sol.append(start)       # append starting location for round trip\n",
    "sol, sol_dist"
   ]
  },
  {
   "cell_type": "code",
   "execution_count": null,
   "metadata": {},
   "outputs": [],
   "source": []
  }
 ],
 "metadata": {
  "kernelspec": {
   "display_name": "Python 3 (ipykernel)",
   "language": "python",
   "name": "python3"
  },
  "language_info": {
   "codemirror_mode": {
    "name": "ipython",
    "version": 3
   },
   "file_extension": ".py",
   "mimetype": "text/x-python",
   "name": "python",
   "nbconvert_exporter": "python",
   "pygments_lexer": "ipython3",
   "version": "3.9.18"
  }
 },
 "nbformat": 4,
 "nbformat_minor": 4
}
