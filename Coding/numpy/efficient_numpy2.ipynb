{
 "cells": [
  {
   "cell_type": "markdown",
   "metadata": {},
   "source": [
    "# Broadcasting <a class=\"anchor\" id=\"broadcasting\">\n",
    "\n",
    "Broadcasting is used by <code>numpy</code> with elementwise computations between arrays whose shapes do not match.  When two such arrays are added, for example, <code>numpy</code> adapts the arrays by repeating some elements in such a way that the shapes of the two arrays do match.  We will describe this mechanism in a more detailed fashion later in this notebook.\n",
    "    \n",
    "Before embarking on more complex broadcasting schemes, we will introduce the concept with some easily understood examples as shown below.\n",
    "\n",
    "![vector_plus_value](images/elewise_vec_val.jpg)\n",
    "    \n",
    "![array_plus_vector](images/array_plus_vec.jpg)"
   ]
  },
  {
   "cell_type": "markdown",
   "metadata": {},
   "source": [
    "We sometimes need to add constants to every element of an <span style=\"font-family:'Courier New'\">ndarray</span>.  We might, similarly, need to add the elements of a 1D <span style=\"font-family:'Courier New'\">ndarray</span> (think vector) to every row or column of a 2D <span style=\"font-family:'Courier New'\">ndarray</span> (think matrix).  <span style=\"font-family:'Courier New'\">numpy</span> gives us the capability to do that easily without expanding the smaller <span style=\"font-family:'Courier New'\">ndarray</span> into an array of the same size as the larger <span style=\"font-family:'Courier New'\">ndarray</span>."
   ]
  },
  {
   "cell_type": "markdown",
   "metadata": {},
   "source": [
    "## Add constant to elements of 1D and 2D <span style=\"font-family:'Courier New'\">ndarray</span>s <a class=\"anchor\" id=\"add-cnst-to-1d-2d\">"
   ]
  },
  {
   "cell_type": "code",
   "execution_count": null,
   "metadata": {},
   "outputs": [],
   "source": [
    "import numpy as np"
   ]
  },
  {
   "cell_type": "code",
   "execution_count": null,
   "metadata": {},
   "outputs": [],
   "source": [
    "vec = np.array(np.arange(10))\n",
    "mat = np.array(np.arange(16)).reshape(4,4)\n",
    "vec, mat"
   ]
  },
  {
   "cell_type": "code",
   "execution_count": null,
   "metadata": {},
   "outputs": [],
   "source": [
    "vec = vec + 1\n",
    "vec"
   ]
  },
  {
   "cell_type": "code",
   "execution_count": null,
   "metadata": {},
   "outputs": [],
   "source": [
    "mat = mat + 1\n",
    "mat"
   ]
  },
  {
   "cell_type": "markdown",
   "metadata": {},
   "source": [
    "## Adding Arrays\n",
    "In the first example, there is only one way to add the vector to the mattrix due to the dimensions on those entities.  There may be multiple ways that the addition could be done, and the default may not be what you intend to do.\n",
    "\n",
    "In this first example, there is only one alternative that makes sense for addition."
   ]
  },
  {
   "cell_type": "code",
   "execution_count": null,
   "metadata": {},
   "outputs": [],
   "source": [
    "mat = np.array(np.arange(15)).reshape(5,3)\n",
    "vec = np.arange(3)\n",
    "\n",
    "print(mat)\n",
    "print(vec)"
   ]
  },
  {
   "cell_type": "code",
   "execution_count": null,
   "metadata": {},
   "outputs": [],
   "source": [
    "mat + vec"
   ]
  },
  {
   "cell_type": "markdown",
   "metadata": {},
   "source": [
    "In this second example, with an array with equal number of rows and columns the addition could be done in two ways.  The default here is to add the 1D array to each row."
   ]
  },
  {
   "cell_type": "code",
   "execution_count": null,
   "metadata": {},
   "outputs": [],
   "source": [
    "mat = np.array(np.arange(16)).reshape(4,4)\n",
    "vec = np.arange(4)\n",
    "\n",
    "print(mat)\n",
    "print(vec)"
   ]
  },
  {
   "cell_type": "code",
   "execution_count": null,
   "metadata": {},
   "outputs": [],
   "source": [
    "mat + vec"
   ]
  },
  {
   "cell_type": "markdown",
   "metadata": {},
   "source": [
    "The dimensions of <code>mat</code> and <code>vec</code> are such that <code>vec</code> could have been added to either each row or each column.  The default here is to add <code>vec</code> to each row.  We will explain later why this is the case."
   ]
  },
  {
   "cell_type": "markdown",
   "metadata": {},
   "source": [
    "If you want to add the 1D vector to the columns, then you can transform it into a column vector using either <code>np.newaxis()</code> or <code>reshape()</code>, or you may alternately view it as a 4 by 1 array, which causes the 1D array to be added to the columns.  The <code>-1</code> argument indicates that <code>numpy</code> should use whatever number of rows is appropriate given the number to total elements in the array."
   ]
  },
  {
   "cell_type": "code",
   "execution_count": null,
   "metadata": {},
   "outputs": [],
   "source": [
    "mat = np.array(np.arange(16)).reshape(4,4)\n",
    "vec = np.arange(4)\n",
    "#vec = vec.reshape(-1,1)\n",
    "vec = vec[:,np.newaxis]\n",
    "\n",
    "print(mat)\n",
    "print(vec)"
   ]
  },
  {
   "cell_type": "code",
   "execution_count": null,
   "metadata": {},
   "outputs": [],
   "source": [
    "np.add(mat, vec)"
   ]
  },
  {
   "cell_type": "code",
   "execution_count": null,
   "metadata": {},
   "outputs": [],
   "source": [
    "mat + vec"
   ]
  },
  {
   "cell_type": "code",
   "execution_count": null,
   "metadata": {},
   "outputs": [],
   "source": [
    "vec = np.arange(4)\n",
    "vec[:,np.newaxis]"
   ]
  },
  {
   "cell_type": "markdown",
   "metadata": {},
   "source": [
    "Alternately, the vector could be reshaped with the <code>.reshape()</code> method."
   ]
  },
  {
   "cell_type": "code",
   "execution_count": null,
   "metadata": {},
   "outputs": [],
   "source": [
    "vec = np.arange(4)\n",
    "vec = vec.reshape(-1,1)\n",
    "\n",
    "mat + vec"
   ]
  },
  {
   "cell_type": "code",
   "execution_count": null,
   "metadata": {},
   "outputs": [],
   "source": [
    "vec = np.arange(4)\n",
    "vec.reshape(-1,1)"
   ]
  },
  {
   "cell_type": "markdown",
   "metadata": {},
   "source": [
    "A <code>-1</code> in a reshape statement tells <code>numpy</code> to figure out whatever dimension makes sense in that location based on the dimensions that the programmer provides and the total number of elements in the array."
   ]
  },
  {
   "cell_type": "markdown",
   "metadata": {},
   "source": [
    "## How Broadcasting Works.. in More Specific Terms\n",
    "\n",
    "To predict how <code>numpy</code> will broadcast, that is, repeat elements from one array such that the dimensions of all arrays in a calculation will match, we need to compare the shape of arrays along all their dimensions.  We do this by writing the shapes of each dimension of an array from right to left in the table below.  Arrays with fewer dimensions will not have entries in some of the leftmost columns.  For example, take <code>mat</code> and <code>vec</code> from a previous example.\n",
    "\n",
    "| Array|Shape|Shape|\n",
    "|---|---|---|\n",
    "|<code>mat</code>|4|4|\n",
    "|<code>vec</code>| |4|\n",
    "\n",
    "Where an array has fewer dimensions than another, <code>numpy</code> interprets the missing dimensions as having a shape of 1.\n",
    "\n",
    "| Array|Shape|Shape|\n",
    "|---|---|---|\n",
    "|<code>mat</code>|4|4|\n",
    "|<code>vec</code>|1|4|\n",
    "\n",
    "Array dimensions where a first array has a shape alrger than one (<code>mat</code>) where a second array has an actually or implied dimension of 1 (<code>vec</code>), the second array will be repeated along the dimension where it has a shape of 1.  In this case, this explains why the elements of <code>vec</code> were repeated across the rows since the first column above describes rows.\n",
    "\n",
    "In the two examples where we created a new axis in <code>vec</code>, our comparison table looks like this\n",
    "\n",
    "| Array|Shape|Shape|\n",
    "|---|---|---|\n",
    "|<code>mat</code>|4|4|\n",
    "|<code>vec</code>|4|1|\n",
    "\n",
    "Now, <code>vec</code> elements will be repeated as indicated in the rightmost column, which is across the columns.\n",
    "\n",
    "If two arrays have different shapes along any dimension and neither fo the shapes is one, then broadcasting will fail."
   ]
  },
  {
   "cell_type": "markdown",
   "metadata": {},
   "source": [
    "## A Purposeful Example\n",
    "\n",
    "Suppose we have two 2D arrays whose rows represent <code>x-y</code> coordinates and we want to compute the difference of all pairs of <code>x-y</code> coordinates between the two tables.  We can accomplish that by taking advantage of broadcasting."
   ]
  },
  {
   "cell_type": "code",
   "execution_count": null,
   "metadata": {},
   "outputs": [],
   "source": [
    "a = np.random.randint(0,9,(4,2))\n",
    "b = np.random.randint(0,9,(3,2))\n",
    "a,b"
   ]
  },
  {
   "cell_type": "markdown",
   "metadata": {},
   "source": [
    "First of all, we couldn't broadcast between these two arrays as is anyway because they ahve a different number of rows.\n",
    "\n",
    "| Array|Shape|Shape|\n",
    "|---|---|---|\n",
    "|<code>a</code>|4|2|\n",
    "|<code>b</code>|3|2|\n",
    "\n",
    "If we insert another axis into <code>a</code> as shown in the next table,\n",
    "\n",
    "| Array|Shape|Shape|Shape|\n",
    "|---|---|---|---|\n",
    "|<code>a</code>|4|1|2|\n",
    "|<code>b</code>||3|2|\n",
    "\n",
    "and so the 3 <code>x-y</code> coordinates (rows) in <code>b</code> are repeated along axis 1 via broadcasting.  This effectively permits us to compute the differences of all pairs.\n"
   ]
  },
  {
   "cell_type": "code",
   "execution_count": null,
   "metadata": {},
   "outputs": [],
   "source": [
    "a[:,np.newaxis,:]  - b"
   ]
  },
  {
   "cell_type": "code",
   "execution_count": null,
   "metadata": {},
   "outputs": [],
   "source": [
    "(a[:,np.newaxis,:]  - b).shape"
   ]
  },
  {
   "cell_type": "code",
   "execution_count": null,
   "metadata": {},
   "outputs": [],
   "source": [
    "a[:,np.newaxis,:]"
   ]
  },
  {
   "cell_type": "markdown",
   "metadata": {},
   "source": [
    "The result has shape 4 along <code>axis=2</code> reflecting the number of <code>x-y</code> coordinates in <code>a</code> and a shape of 3 along <code>axis=1</code> reflecting the number of <code>x-y</code> coordinates in <code>b</code>."
   ]
  },
  {
   "cell_type": "markdown",
   "metadata": {},
   "source": [
    "We can get a better view of how broacasting works by adding <code>b</code> to an array of zeros the same shape as <code>a[:,np.newaxis,:]</code> and, conversely, adding <code>a[:,np.newaxis,:]</code> to an array of zeros the same shape as <code>b</code>."
   ]
  },
  {
   "cell_type": "code",
   "execution_count": null,
   "metadata": {},
   "outputs": [],
   "source": [
    "np.zeros((a.shape[0],1,a.shape[1])) + b"
   ]
  },
  {
   "cell_type": "code",
   "execution_count": null,
   "metadata": {},
   "outputs": [],
   "source": [
    "np.zeros(b.shape) + a[:,np.newaxis,:]"
   ]
  },
  {
   "cell_type": "markdown",
   "metadata": {},
   "source": [
    "# <code>np.tile(np.array, reps)</code> \n",
    "\n",
    "This function creates a new array by repeating the element values of an original array, shown as <code>np.array</code> above. If <code>reps</code> is an integer, than the values of the original array are repeated across new columns.  If <code>reps</code> is a tuple, then new rows are added as well.  "
   ]
  },
  {
   "cell_type": "code",
   "execution_count": null,
   "metadata": {},
   "outputs": [],
   "source": [
    "x = np.arange(3)\n",
    "x"
   ]
  },
  {
   "cell_type": "code",
   "execution_count": null,
   "metadata": {},
   "outputs": [],
   "source": [
    "np.tile(x,3)"
   ]
  },
  {
   "cell_type": "code",
   "execution_count": null,
   "metadata": {},
   "outputs": [],
   "source": [
    "np.tile(x,(3,2))"
   ]
  },
  {
   "cell_type": "markdown",
   "metadata": {},
   "source": [
    "Or, if you want to create some number of rows each of which is a replicate of the values from the original array, then you can use the following statement."
   ]
  },
  {
   "cell_type": "code",
   "execution_count": null,
   "metadata": {},
   "outputs": [],
   "source": [
    "np.tile(x,(3,1))"
   ]
  },
  {
   "cell_type": "markdown",
   "metadata": {},
   "source": [
    "This method works also for replicating values from multi-dimensional arrays."
   ]
  },
  {
   "cell_type": "code",
   "execution_count": null,
   "metadata": {},
   "outputs": [],
   "source": [
    "y = np.arange(6).reshape(2,3)\n",
    "y"
   ]
  },
  {
   "cell_type": "code",
   "execution_count": null,
   "metadata": {},
   "outputs": [],
   "source": [
    "np.tile(y,2)"
   ]
  },
  {
   "cell_type": "code",
   "execution_count": null,
   "metadata": {},
   "outputs": [],
   "source": [
    "np.tile(y, (2,2))"
   ]
  },
  {
   "cell_type": "markdown",
   "metadata": {},
   "source": [
    "# <code>np.repeat()</code>\n",
    "\n",
    "This method does an operation similar to <code>np.tile()</code>, except that each element value from an original array is repeated in a different mode than in <code>np.tile()</code>.  <code>np.tile()</code> replicates all the values from the original array before repeating values, but <code>np.repeat()</code> repeats each value individually before moving to the next value.  The result of using this method on multi-dimensional arrays will be a flattened array unless the <code>axis</code> argument is used."
   ]
  },
  {
   "cell_type": "code",
   "execution_count": null,
   "metadata": {},
   "outputs": [],
   "source": [
    "np.repeat(3,4)"
   ]
  },
  {
   "cell_type": "code",
   "execution_count": null,
   "metadata": {},
   "outputs": [],
   "source": [
    "x = np.arange(6).reshape(2,3)\n",
    "x"
   ]
  },
  {
   "cell_type": "code",
   "execution_count": null,
   "metadata": {},
   "outputs": [],
   "source": [
    "np.repeat(x,3)"
   ]
  },
  {
   "cell_type": "code",
   "execution_count": null,
   "metadata": {},
   "outputs": [],
   "source": [
    "np.repeat(x,3,axis=0)"
   ]
  },
  {
   "cell_type": "code",
   "execution_count": null,
   "metadata": {},
   "outputs": [],
   "source": [
    "np.repeat(x,3,axis=1)"
   ]
  },
  {
   "cell_type": "code",
   "execution_count": null,
   "metadata": {},
   "outputs": [],
   "source": []
  }
 ],
 "metadata": {
  "kernelspec": {
   "display_name": "Python 3 (ipykernel)",
   "language": "python",
   "name": "python3"
  },
  "language_info": {
   "codemirror_mode": {
    "name": "ipython",
    "version": 3
   },
   "file_extension": ".py",
   "mimetype": "text/x-python",
   "name": "python",
   "nbconvert_exporter": "python",
   "pygments_lexer": "ipython3",
   "version": "3.11.4"
  }
 },
 "nbformat": 4,
 "nbformat_minor": 4
}
