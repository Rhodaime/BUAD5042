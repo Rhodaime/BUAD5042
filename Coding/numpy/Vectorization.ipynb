{
 "cells": [
  {
   "cell_type": "markdown",
   "metadata": {},
   "source": [
    "## Avoid Loops with <code>numpy</code> and Elementwise Calculations (Vectorization)\n",
    "\n",
    "As we have discussed, your code slows dramatically with each nested <code>for</code> loop you add.  You can avoid using loops with <code>numpy</code> vectorization.  While the loops are eliminated from your Python code, a looping mechanism is still executed behind the scenes in <code>numpy</code>, although <code>numpy</code> does this operation much more quickly than if it was done with Python code."
   ]
  },
  {
   "cell_type": "markdown",
   "metadata": {},
   "source": [
    "### The Traditional Python Approach to Array Addition with Loops"
   ]
  },
  {
   "cell_type": "code",
   "execution_count": null,
   "metadata": {},
   "outputs": [],
   "source": [
    "x = [[0,1,2],[3,4,5],[6,7,8]]\n",
    "y = [[1,1,1],[1,1,1],[1,1,1]]\n",
    "z = [[0,0,0],[0,0,0],[0,0,0]]\n",
    "\n",
    "for i in range(len(x)):\n",
    "    for j in range(len(x[0])):\n",
    "        z[i][j] = x[i][j] + y[i][j]\n",
    "print(z)"
   ]
  },
  {
   "cell_type": "markdown",
   "metadata": {},
   "source": [
    "### Array Addition With <code>numpy</code>, Without loops"
   ]
  },
  {
   "cell_type": "code",
   "execution_count": null,
   "metadata": {},
   "outputs": [],
   "source": [
    "x = np.array([[0,1,2],[3,4,5],[6,7,8]])\n",
    "y = np.array([[1,1,1],[1,1,1],[1,1,1]])\n",
    "\n",
    "z = x + y\n",
    "print(z)"
   ]
  },
  {
   "cell_type": "markdown",
   "metadata": {},
   "source": [
    "### A Bigger Addition Problem"
   ]
  },
  {
   "cell_type": "code",
   "execution_count": 17,
   "metadata": {},
   "outputs": [
    {
     "name": "stdout",
     "output_type": "stream",
     "text": [
      "for loop execution time: 0.2594606876373291\n",
      "numpy execution time: 0.0\n"
     ]
    }
   ],
   "source": [
    "import random\n",
    "prob_size = 1000\n",
    "x = [[random.randint(0,10) for _ in range(prob_size)] for _ in range(prob_size)]\n",
    "y = [[random.randint(0,10) for _ in range(prob_size)] for _ in range(prob_size)]\n",
    "z = [[0 for _ in range(prob_size)] for _ in range(prob_size)]\n",
    "\n",
    "time_start = time.time()\n",
    "for i in range(len(x)):\n",
    "    for j in range(len(x[0])):\n",
    "        z[i][j] = x[i][j] + y[i][j]\n",
    "print(f'for loop execution time: {time.time() - time_start}')\n",
    "\n",
    "x = np.random.randint((prob_size,prob_size))\n",
    "y = np.random.randint((prob_size,prob_size))\n",
    "\n",
    "time_start = time.time()\n",
    "z = x + y\n",
    "print(f'numpy execution time: {time.time() - time_start}')"
   ]
  }
 ],
 "metadata": {
  "kernelspec": {
   "display_name": "Python 3",
   "language": "python",
   "name": "python3"
  },
  "language_info": {
   "codemirror_mode": {
    "name": "ipython",
    "version": 3
   },
   "file_extension": ".py",
   "mimetype": "text/x-python",
   "name": "python",
   "nbconvert_exporter": "python",
   "pygments_lexer": "ipython3",
   "version": "3.8.5"
  }
 },
 "nbformat": 4,
 "nbformat_minor": 4
}
