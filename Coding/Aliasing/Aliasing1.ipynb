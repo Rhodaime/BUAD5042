{
 "cells": [
  {
   "cell_type": "code",
   "execution_count": 16,
   "id": "f337ec1f",
   "metadata": {},
   "outputs": [],
   "source": [
    "import numpy as np"
   ]
  },
  {
   "cell_type": "markdown",
   "id": "4285c3e9",
   "metadata": {},
   "source": [
    "We talked about how numpy arrays, lists, and dictionaries are sent to functions as references and the values can be changed within the function.  I need to point out one danger, which is while values within these data types can be changed, if the variable name that is passed to a function is redefined within a function it can be overwritten."
   ]
  },
  {
   "cell_type": "markdown",
   "id": "f6a29afa",
   "metadata": {},
   "source": [
    "In this first, example, as in class, values in a numpy array are changed within a function without using a return statement."
   ]
  },
  {
   "cell_type": "code",
   "execution_count": 17,
   "id": "1201a4c3",
   "metadata": {},
   "outputs": [],
   "source": [
    "def change_me(x):\n",
    "    x[0,0] = 99"
   ]
  },
  {
   "cell_type": "code",
   "execution_count": 18,
   "id": "82f4edae",
   "metadata": {},
   "outputs": [
    {
     "data": {
      "text/plain": [
       "array([[0, 1],\n",
       "       [2, 3]])"
      ]
     },
     "execution_count": 18,
     "metadata": {},
     "output_type": "execute_result"
    }
   ],
   "source": [
    "y = np.arange(4).reshape(2,2)\n",
    "y"
   ]
  },
  {
   "cell_type": "code",
   "execution_count": 19,
   "id": "3e348ce2",
   "metadata": {},
   "outputs": [
    {
     "data": {
      "text/plain": [
       "array([[99,  1],\n",
       "       [ 2,  3]])"
      ]
     },
     "execution_count": 19,
     "metadata": {},
     "output_type": "execute_result"
    }
   ],
   "source": [
    "change_me(y)\n",
    "y"
   ]
  },
  {
   "attachments": {},
   "cell_type": "markdown",
   "id": "72ec43cc",
   "metadata": {},
   "source": [
    "However, if a variable is defined within the function, here <code>x</code>, rather than referring to indivdual value within <code>x</code>, then <code>x</code> will refer to a new variable with scope only within the function.  That is, it will not change the variable <code>z</code> in the code below."
   ]
  },
  {
   "cell_type": "code",
   "execution_count": 20,
   "id": "90cb2099",
   "metadata": {},
   "outputs": [],
   "source": [
    "def change_me1(x):\n",
    "    x = np.zeros((2,2))\n",
    "    print(f'x within the function change_me1 is \\n{x}')"
   ]
  },
  {
   "cell_type": "code",
   "execution_count": 21,
   "id": "f4562d2c",
   "metadata": {},
   "outputs": [
    {
     "name": "stdout",
     "output_type": "stream",
     "text": [
      "x within the function change_me1 is \n",
      "[[0. 0.]\n",
      " [0. 0.]]\n",
      "z = \n",
      "[[0 1]\n",
      " [2 3]]\n"
     ]
    }
   ],
   "source": [
    "z = np.arange(4).reshape(2,2)\n",
    "change_me1(z)\n",
    "print(f'z = \\n{z}')"
   ]
  },
  {
   "cell_type": "code",
   "execution_count": null,
   "id": "e300525b",
   "metadata": {},
   "outputs": [],
   "source": []
  }
 ],
 "metadata": {
  "kernelspec": {
   "display_name": "Python 3 (ipykernel)",
   "language": "python",
   "name": "python3"
  },
  "language_info": {
   "codemirror_mode": {
    "name": "ipython",
    "version": 3
   },
   "file_extension": ".py",
   "mimetype": "text/x-python",
   "name": "python",
   "nbconvert_exporter": "python",
   "pygments_lexer": "ipython3",
   "version": "3.11.4"
  }
 },
 "nbformat": 4,
 "nbformat_minor": 5
}
