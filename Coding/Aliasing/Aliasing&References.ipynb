{
 "cells": [
  {
   "cell_type": "markdown",
   "metadata": {},
   "source": [
    "# Aliasing and Varying Behavior of Different Data Types when Passed to Functions\n",
    "\n",
    "This Jupyter notebook discusses two topics which, on their face, may seem unrelated.  To the contrary, the same factor determines whether aliasing occurs and how data behaves when variables are passed to functions.\n",
    "\n",
    "This factor is whether a variable's memory address (i.e., reference) is used or a copy of the variable's value(s) are used in assignment statements or when variables are passed to function.  In the first instance, assignment statements, aliasing is possible and changing values of variables passed to functions, in the second instance, can exhibit quite different behavior.\n",
    "\n",
    "What exactly is aliasing?  Let's answer that question by demonstration."
   ]
  },
  {
   "cell_type": "markdown",
   "metadata": {},
   "source": [
    "# Aliasing <a name = 'aliasing' />\n",
    "\n",
    "Aliasing the the act of referencing the same memory location/variable with different variables.  It happens most often unintentionally and can cause a frustrating debugging adventure."
   ]
  },
  {
   "cell_type": "markdown",
   "metadata": {},
   "source": [
    "Aliasing does not occur with <font face='courier'>int</font> and <font face='courier'>float</font> data types.  In the cell below, the values of <code>p</code> and <code>q</code> refer to different memory locations, as we might expect.  Although the value of <code>q</code> is set using <code>p</code>, we can change their values independently. "
   ]
  },
  {
   "cell_type": "code",
   "execution_count": null,
   "metadata": {},
   "outputs": [],
   "source": [
    "p = 1\n",
    "q = p\n",
    "p = 2\n",
    "print(f'p = {p}; q ={q}')"
   ]
  },
  {
   "cell_type": "code",
   "execution_count": null,
   "metadata": {},
   "outputs": [],
   "source": [
    "p = 1.0\n",
    "q = p\n",
    "p = 2.0\n",
    "print(f'p = {p}; q ={q}')"
   ]
  },
  {
   "cell_type": "markdown",
   "metadata": {},
   "source": [
    "Aliasing can occur, however, with these data types:\n",
    "\n",
    "- <code>list</code>\n",
    "- <code>dictionary</code>\n",
    "- <code>numpy</code> arrays\n",
    "- <code>pandas DataFrame</code>s and <code>Series</code>\n",
    "\n",
    "When we assign a list to another list, however, both list names point to the same data, which is to say that they both pint to the same place in memory."
   ]
  },
  {
   "cell_type": "code",
   "execution_count": null,
   "metadata": {},
   "outputs": [],
   "source": [
    "x = [1,2]\n",
    "y = x\n",
    "y[0] = 99\n",
    "print(f'x = {x}; y = {y}')"
   ]
  },
  {
   "cell_type": "markdown",
   "metadata": {},
   "source": [
    "Aliasing occurs with <code>numpy</code> when an assignment statement is used and its left-hand side results in the creation, or re-creation of a complete numpy variable (rather than an indexed portion of a <code>numpy</code> array."
   ]
  },
  {
   "cell_type": "code",
   "execution_count": null,
   "metadata": {},
   "outputs": [],
   "source": [
    "import numpy as np"
   ]
  },
  {
   "cell_type": "code",
   "execution_count": null,
   "metadata": {},
   "outputs": [],
   "source": [
    "arr = np.arange(12).reshape(3,4)\n",
    "arr"
   ]
  },
  {
   "cell_type": "code",
   "execution_count": null,
   "metadata": {},
   "outputs": [],
   "source": [
    "arr2 = arr\n",
    "arr2[1] = np.zeros(arr.shape[1])\n",
    "print(f'arr2 = \\n{arr2}\\n')\n",
    "print(f'arr = \\n{arr}')"
   ]
  },
  {
   "cell_type": "code",
   "execution_count": null,
   "metadata": {},
   "outputs": [],
   "source": [
    "arr3 = arr[2]\n",
    "arr3[2] = 99\n",
    "\n",
    "print(f'arr3 = \\n{arr3}\\n')\n",
    "print(f'arr2 = \\n{arr2}\\n')\n",
    "print(f'arr = \\n{arr}')"
   ]
  },
  {
   "cell_type": "code",
   "execution_count": null,
   "metadata": {},
   "outputs": [],
   "source": [
    "arr4 = np.zeros((4,4))\n",
    "arr4"
   ]
  },
  {
   "cell_type": "markdown",
   "metadata": {},
   "source": [
    "Note that aliasing does not occur in the example below when the left-hand side of the assignment statement refers to a slice of a <code>numpy</code> array."
   ]
  },
  {
   "cell_type": "code",
   "execution_count": null,
   "metadata": {},
   "outputs": [],
   "source": [
    "arr4[2] = arr3\n",
    "arr4[2,0] = 99\n",
    "\n",
    "print(f'arr4 = \\n{arr4}\\n')\n",
    "print(f'arr3 = \\n{arr3}\\n')\n"
   ]
  },
  {
   "cell_type": "markdown",
   "metadata": {},
   "source": [
    "Be careful with functions that return <code>numpy</code> arrays, or portions of them because these are assignment statements as well.\n",
    "\n",
    "In this example the fitness of a population individual is simply the number of ones that it contains.  The <code>mutate()</code> function mutates a gene (nonrandomly) in a way that increases it fitness.  The <code>stat()</code> function keeps track of the best fitness score and the best solution that resulted in the best fitness."
   ]
  },
  {
   "cell_type": "code",
   "execution_count": null,
   "metadata": {},
   "outputs": [],
   "source": [
    "def fit(pop):\n",
    "    return pop.sum(axis=1)\n",
    "\n",
    "def stat(pop, fitness, best_fit, best_soln):\n",
    "    if fitness.max() > best_fit:\n",
    "        return fitness.max(), pop[fitness.argmax()]\n",
    "    else:\n",
    "        return best_fit, best_soln"
   ]
  },
  {
   "cell_type": "code",
   "execution_count": null,
   "metadata": {},
   "outputs": [],
   "source": [
    "''' Initialize population '''\n",
    "pop = np.array([[0,0,0,0,0],\n",
    "                [1,0,0,0,0],\n",
    "                [1,1,0,0,0]])\n",
    "best_fit = 0\n",
    "best_soln = np.array([0,0,0,0])\n",
    "\n",
    "''' Select parents'''\n",
    "\n",
    "''' Crossover '''\n",
    "\n",
    "''' Mutate '''\n",
    "\n",
    "''' Compute fitness '''\n",
    "fitness = fit(pop)\n",
    "\n",
    "''' Keep track of best solution '''\n",
    "best_fit, best_soln = stat(pop, fitness, best_fit, best_soln)\n",
    "print(f'best_soln: {best_soln}')"
   ]
  },
  {
   "cell_type": "code",
   "execution_count": null,
   "metadata": {},
   "outputs": [],
   "source": [
    "pop[2,0] = 0"
   ]
  },
  {
   "cell_type": "code",
   "execution_count": null,
   "metadata": {},
   "outputs": [],
   "source": [
    "pop"
   ]
  },
  {
   "cell_type": "code",
   "execution_count": null,
   "metadata": {},
   "outputs": [],
   "source": [
    "best_soln"
   ]
  },
  {
   "cell_type": "markdown",
   "metadata": {},
   "source": [
    "Any operation on the population will unintentionally alter the variable <code>best_soln</code>.\n",
    "\n",
    "Can anybody see where/how aliasing happened in the code above?"
   ]
  },
  {
   "cell_type": "markdown",
   "metadata": {},
   "source": [
    "Note that aliasing does not occur in the example below when the left-hand side of the assignment statement refers to a slice of a <code>numpy</code> array."
   ]
  },
  {
   "cell_type": "code",
   "execution_count": null,
   "metadata": {},
   "outputs": [],
   "source": [
    "arr4[2] = arr3\n",
    "arr4[2,0] = 99\n",
    "\n",
    "print(f'arr4 = \\n{arr4}\\n')\n",
    "print(f'arr3 = \\n{arr3}\\n')\n"
   ]
  },
  {
   "cell_type": "markdown",
   "metadata": {},
   "source": [
    "# What Causes Aliasing with Some Variable Types\n",
    "\n",
    "Aliasing is the situation when two different variable names refer to the same data in memory.  That is, the definitions of both variables point, or have a reference, to the same memory address so that when you alter the memory using one variable the defintion is changed for the second variable also since both variables refer to the same memory location.\n",
    "\n",
    "Aliasing in an assignment statement is caused, when it does occur, by the data transmitted from the right-hand side to the left-hand side of the assignment statement being in the form of a reference to a memory location rather than the value(s) of a variable.  This is called \"passing a variable by reference\" in the former case and \"passing a variable by value\" in the latter case.  Which happens is determined by the data type that is on the right-hand of an assignment statement.  Some data types are passed by reference and some by value, where aliasing being associated with the former case.\n",
    "\n",
    "An incomplete list of how variables are passed to functions is shown below.\n",
    "\n",
    "|Passed by Value|Passed by Reference|\n",
    "|---|---|\n",
    "|<code>int</code>|<code>list</code>|\n",
    "|<code>float</code>|<code>dictionary</code>|\n",
    "||<code>numpy</code> array|"
   ]
  },
  {
   "cell_type": "markdown",
   "metadata": {},
   "source": [
    "# Avoiding Aliasing\n",
    "\n",
    "Avoiding aliasing requires that a \"copy\" of a variable be assigned to another variable and how one would do that varies depending on what data type you are using.  This forces the information flowing from the left-die to the right side of an assignment statement to be values rather than a reference, which causes the values of a variable's elements to be assigned to another variable rather than passing one variable's address to another variable so that they are pointing at the same memory location."
   ]
  },
  {
   "cell_type": "markdown",
   "metadata": {},
   "source": [
    "Here are a couple strategies for lists: <code>.copy()</code> and using a slice."
   ]
  },
  {
   "cell_type": "code",
   "execution_count": null,
   "metadata": {},
   "outputs": [],
   "source": [
    "x = [1,2]\n",
    "y = x\n",
    "y[0] = 99\n",
    "print(f'x = {x}; y = {y}')"
   ]
  },
  {
   "cell_type": "code",
   "execution_count": null,
   "metadata": {},
   "outputs": [],
   "source": [
    "x = [1,2]\n",
    "y = x.copy()\n",
    "y[0] = 99\n",
    "print(f'x = {x}; y = {y}')"
   ]
  },
  {
   "cell_type": "code",
   "execution_count": null,
   "metadata": {},
   "outputs": [],
   "source": [
    "x = [1,2]\n",
    "y = x[:]\n",
    "y[0] = 99\n",
    "print(f'x = {x}; y = {y}')"
   ]
  },
  {
   "cell_type": "markdown",
   "metadata": {},
   "source": [
    "Resolving aliasing with <code>numpy</code>"
   ]
  },
  {
   "cell_type": "code",
   "execution_count": null,
   "metadata": {},
   "outputs": [],
   "source": [
    "arr = np.arange(12).reshape(3,4)\n",
    "arr"
   ]
  },
  {
   "cell_type": "code",
   "execution_count": null,
   "metadata": {},
   "outputs": [],
   "source": [
    "arr2 = arr\n",
    "arr2[1] = np.zeros(arr.shape[1])\n",
    "print(f'arr2 = \\n{arr2}\\n')\n",
    "print(f'arr = \\n{arr}')"
   ]
  },
  {
   "cell_type": "code",
   "execution_count": null,
   "metadata": {},
   "outputs": [],
   "source": [
    "arr = np.arange(12).reshape(3,4)\n",
    "arr"
   ]
  },
  {
   "cell_type": "code",
   "execution_count": null,
   "metadata": {},
   "outputs": [],
   "source": [
    "arr2 = arr.copy()\n",
    "arr2[1] = np.zeros(arr.shape[1])\n",
    "print(f'arr2 = \\n{arr2}\\n')\n",
    "print(f'arr = \\n{arr}')"
   ]
  },
  {
   "cell_type": "markdown",
   "metadata": {},
   "source": [
    "Note that using a slice in <code>numpy</code> does not work."
   ]
  },
  {
   "cell_type": "code",
   "execution_count": null,
   "metadata": {},
   "outputs": [],
   "source": [
    "arr2 = arr[:,:]\n",
    "arr2[1] = np.zeros(arr.shape[1])\n",
    "print(f'arr2 = \\n{arr2}\\n')\n",
    "print(f'arr = \\n{arr}')"
   ]
  },
  {
   "cell_type": "markdown",
   "metadata": {},
   "source": [
    "The cells below illustrate how to avoid aliasing in the previous example with the function <code>stat()</code> ."
   ]
  },
  {
   "cell_type": "code",
   "execution_count": null,
   "metadata": {},
   "outputs": [],
   "source": [
    "def fit(pop):\n",
    "    return pop.sum(axis=1)\n",
    "\n",
    "def stat(pop, fitness, best_fit, best_soln):\n",
    "    if fitness.max() > best_fit:\n",
    "        return fitness.max(), pop[fitness.argmax()].copy()\n",
    "    else:\n",
    "        return best_fit, best_soln"
   ]
  },
  {
   "cell_type": "code",
   "execution_count": null,
   "metadata": {},
   "outputs": [],
   "source": [
    "''' Initiate population '''\n",
    "pop = np.array([[0,0,0,0,0],\n",
    "                [1,0,0,0,0],\n",
    "                [1,1,0,0,0]])\n",
    "best_fit = 0\n",
    "best_soln = np.array([0,0,0,0])\n",
    "\n",
    "''' Select parents'''\n",
    "\n",
    "''' Crossover '''\n",
    "\n",
    "''' Mutate '''\n",
    "\n",
    "''' Compute fitness '''\n",
    "fitness = fit(pop)\n",
    "\n",
    "''' Keep track of best solution '''\n",
    "best_fit, best_soln = stat(pop, fitness, best_fit, best_soln)\n",
    "print(f'best_soln: {best_soln}')"
   ]
  },
  {
   "cell_type": "code",
   "execution_count": null,
   "metadata": {},
   "outputs": [],
   "source": [
    "pop[2,0] = 0\n",
    "print(f'pop = \\n{pop}\\n')\n",
    "print(f'best_soln = \\n{best_soln}')"
   ]
  },
  {
   "cell_type": "markdown",
   "metadata": {},
   "source": [
    "# When is Aliasing Useful?\n",
    "\n",
    "In my experience, I have never needed to use it on purpose.  It most often is done unintentionally and, because it is not an intuitive behavior, it can take a long time to diagnose and resolve."
   ]
  },
  {
   "cell_type": "markdown",
   "metadata": {},
   "source": [
    "# Function Arguments by Value and by Reference\n",
    "\n",
    "This topic is closely related to aliasing because the underlying factor is whether a variable is passed to a function by its elements' values or whether a pointer to its memory location is passed (e.g., passing a reference).\n",
    "\n",
    "Bottom line, if a variable is passed to a function by value, then it needs to be returned to the calling program if it is changed while a variable passed by reference can be changed directly in a function without needing to have its revised value passed back to the calling function.\n",
    "\n",
    "An incomplete list of how variables are passed to functions is shown below.\n",
    "\n",
    "|Passed by Value|Passed by Reference|\n",
    "|---|---|\n",
    "|<code>int</code>|<code>list</code>|\n",
    "|<code>float</code>|<code>dictionary</code>|\n",
    "||<code>numpy</code> array|\n",
    "\n",
    "Note that if some new variable is created within a function, then it must be passed back to the calling program via a <code>return</code> statement.  Note also, that it is moot to discuss <code>tuples</code> since they are immutable and their valeus cannot be revised within a function or by any other means."
   ]
  },
  {
   "cell_type": "code",
   "execution_count": null,
   "metadata": {},
   "outputs": [],
   "source": [
    "def change_int_float(x):\n",
    "    x += 1\n",
    "    \n",
    "def change_dictionary(x):\n",
    "    x['hello'] = 'good bye'\n",
    "    \n",
    "def change_numpy(x):\n",
    "    x[0,0] = 99\n",
    "    return x"
   ]
  },
  {
   "cell_type": "code",
   "execution_count": null,
   "metadata": {},
   "outputs": [],
   "source": [
    "import numpy as np\n",
    "\n",
    "my_int = 3\n",
    "print(f'my_int starting value: {my_int}')\n",
    "change_int_float(my_int)\n",
    "print(f'my_int ending value: {my_int}\\n\\n')\n",
    "\n",
    "my_float = 5\n",
    "print(f'my_float starting value: {my_float}')\n",
    "change_int_float(my_float)\n",
    "print(f'my_float ending value: {my_float}\\n\\n')\n",
    "\n",
    "my_dictionary = {'hello':'greeting'}\n",
    "print(f'my_dictionary starting value: {my_dictionary}')\n",
    "change_dictionary(my_dictionary)\n",
    "print(f'my_dictionary ending value: {my_dictionary}\\n\\n')\n",
    "\n",
    "my_np_array = np.arange(16).reshape(4,4)\n",
    "print(f'my_np_array starting value: \\n{my_np_array}')\n",
    "change_numpy(my_np_array)\n",
    "print(f'my_np_array ending value: \\n{my_np_array}')"
   ]
  },
  {
   "cell_type": "code",
   "execution_count": null,
   "metadata": {},
   "outputs": [],
   "source": []
  }
 ],
 "metadata": {
  "kernelspec": {
   "display_name": "Python 3 (ipykernel)",
   "language": "python",
   "name": "python3"
  },
  "language_info": {
   "codemirror_mode": {
    "name": "ipython",
    "version": 3
   },
   "file_extension": ".py",
   "mimetype": "text/x-python",
   "name": "python",
   "nbconvert_exporter": "python",
   "pygments_lexer": "ipython3",
   "version": "3.11.4"
  }
 },
 "nbformat": 4,
 "nbformat_minor": 4
}
